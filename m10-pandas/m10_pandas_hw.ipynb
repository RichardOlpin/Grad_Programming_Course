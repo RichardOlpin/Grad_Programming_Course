{
 "cells": [
  {
   "cell_type": "markdown",
   "metadata": {
    "nbgrader": {
     "grade": false,
     "grade_id": "cell-37ce1da696fefea3",
     "locked": true,
     "schema_version": 1,
     "solution": false
    }
   },
   "source": [
    "# Pandas"
   ]
  },
  {
   "cell_type": "code",
   "execution_count": 3,
   "metadata": {
    "collapsed": true,
    "nbgrader": {
     "grade": false,
     "grade_id": "cell-3ca5ef9b1d9960d0",
     "locked": true,
     "schema_version": 1,
     "solution": false
    }
   },
   "outputs": [],
   "source": [
    "from nose.tools import assert_true, assert_false, \\\n",
    "    assert_almost_equal, assert_equal, assert_raises"
   ]
  },
  {
   "cell_type": "markdown",
   "metadata": {
    "nbgrader": {
     "grade": false,
     "grade_id": "cell-3f95a19ade594b2a",
     "locked": true,
     "schema_version": 1,
     "solution": false
    }
   },
   "source": [
    "**Problem 1 (25 points).** Use Pandas to read in the file pruning_machine_learning_10292014.txt. Create a pandas DataFrame that has all the columns in the text file EXCEPT for \"edge_label\" and \"minmaxdfe.\" Also all missing (NaN) values should be replaced with the mean value for the relevant column. **Hint**: read up on [``fillna``](http://pandas.pydata.org/pandas-docs/stable/generated/pandas.DataFrame.fillna.html) and [``drop``](http://pandas.pydata.org/pandas-docs/stable/generated/pandas.DataFrame.drop.html)"
   ]
  },
  {
   "cell_type": "code",
   "execution_count": 4,
   "metadata": {
    "collapsed": true,
    "nbgrader": {
     "grade": false,
     "grade_id": "cell-1e927200ba5c95e6",
     "locked": true,
     "schema_version": 1,
     "solution": false
    }
   },
   "outputs": [],
   "source": [
    "import os\n",
    "import pandas as pd\n",
    "import matplotlib.pyplot as plt\n",
    "from collections import defaultdict, OrderedDict\n",
    "import datetime\n",
    "import numpy as np\n",
    "from dateutil import parser"
   ]
  },
  {
   "cell_type": "code",
   "execution_count": 5,
   "metadata": {
    "collapsed": false,
    "nbgrader": {
     "grade": false,
     "grade_id": "cell-3ba26c1abd0c4eac",
     "locked": false,
     "schema_version": 1,
     "solution": true
    }
   },
   "outputs": [
    {
     "data": {
      "text/html": [
       "<div>\n",
       "<table border=\"1\" class=\"dataframe\">\n",
       "  <thead>\n",
       "    <tr style=\"text-align: right;\">\n",
       "      <th></th>\n",
       "      <th>basename</th>\n",
       "      <th>prune_label</th>\n",
       "      <th>pathlength</th>\n",
       "      <th>exterior2surface</th>\n",
       "      <th>surface2volume</th>\n",
       "      <th>mindfe</th>\n",
       "      <th>maxdfe</th>\n",
       "      <th>length2width</th>\n",
       "      <th>depth</th>\n",
       "      <th>angle</th>\n",
       "    </tr>\n",
       "  </thead>\n",
       "  <tbody>\n",
       "    <tr>\n",
       "      <th>0</th>\n",
       "      <td>671_PV_skeleton_graphs.pckle</td>\n",
       "      <td>0</td>\n",
       "      <td>23</td>\n",
       "      <td>0.775000</td>\n",
       "      <td>0.101429</td>\n",
       "      <td>4.0</td>\n",
       "      <td>7.0</td>\n",
       "      <td>4.181818</td>\n",
       "      <td>50.074449</td>\n",
       "      <td>0.024576</td>\n",
       "    </tr>\n",
       "    <tr>\n",
       "      <th>1</th>\n",
       "      <td>671_PV_skeleton_graphs.pckle</td>\n",
       "      <td>0</td>\n",
       "      <td>45</td>\n",
       "      <td>0.910923</td>\n",
       "      <td>0.075812</td>\n",
       "      <td>2.0</td>\n",
       "      <td>7.0</td>\n",
       "      <td>10.000000</td>\n",
       "      <td>50.074449</td>\n",
       "      <td>0.021655</td>\n",
       "    </tr>\n",
       "    <tr>\n",
       "      <th>2</th>\n",
       "      <td>671_PV_skeleton_graphs.pckle</td>\n",
       "      <td>0</td>\n",
       "      <td>137</td>\n",
       "      <td>0.922793</td>\n",
       "      <td>0.063619</td>\n",
       "      <td>2.0</td>\n",
       "      <td>9.0</td>\n",
       "      <td>24.909091</td>\n",
       "      <td>14.517342</td>\n",
       "      <td>0.030480</td>\n",
       "    </tr>\n",
       "    <tr>\n",
       "      <th>3</th>\n",
       "      <td>202_PV_skeleton_graphs.pckle</td>\n",
       "      <td>0</td>\n",
       "      <td>3</td>\n",
       "      <td>0.713208</td>\n",
       "      <td>0.345953</td>\n",
       "      <td>5.0</td>\n",
       "      <td>5.0</td>\n",
       "      <td>0.600000</td>\n",
       "      <td>60.433135</td>\n",
       "      <td>0.019737</td>\n",
       "    </tr>\n",
       "    <tr>\n",
       "      <th>4</th>\n",
       "      <td>202_PV_skeleton_graphs.pckle</td>\n",
       "      <td>0</td>\n",
       "      <td>6</td>\n",
       "      <td>0.732123</td>\n",
       "      <td>0.377787</td>\n",
       "      <td>4.0</td>\n",
       "      <td>5.0</td>\n",
       "      <td>1.333333</td>\n",
       "      <td>60.433135</td>\n",
       "      <td>0.016531</td>\n",
       "    </tr>\n",
       "    <tr>\n",
       "      <th>5</th>\n",
       "      <td>202_PV_skeleton_graphs.pckle</td>\n",
       "      <td>0</td>\n",
       "      <td>113</td>\n",
       "      <td>0.922076</td>\n",
       "      <td>0.200871</td>\n",
       "      <td>3.0</td>\n",
       "      <td>9.0</td>\n",
       "      <td>18.833333</td>\n",
       "      <td>10.903907</td>\n",
       "      <td>0.021772</td>\n",
       "    </tr>\n",
       "    <tr>\n",
       "      <th>6</th>\n",
       "      <td>849_PV_skeleton_graphs.pckle</td>\n",
       "      <td>0</td>\n",
       "      <td>21</td>\n",
       "      <td>0.658359</td>\n",
       "      <td>0.030060</td>\n",
       "      <td>4.0</td>\n",
       "      <td>9.0</td>\n",
       "      <td>3.230769</td>\n",
       "      <td>85.675047</td>\n",
       "      <td>0.016949</td>\n",
       "    </tr>\n",
       "    <tr>\n",
       "      <th>7</th>\n",
       "      <td>849_PV_skeleton_graphs.pckle</td>\n",
       "      <td>0</td>\n",
       "      <td>17</td>\n",
       "      <td>0.742336</td>\n",
       "      <td>0.033536</td>\n",
       "      <td>4.0</td>\n",
       "      <td>7.0</td>\n",
       "      <td>3.090909</td>\n",
       "      <td>95.765084</td>\n",
       "      <td>0.019737</td>\n",
       "    </tr>\n",
       "    <tr>\n",
       "      <th>8</th>\n",
       "      <td>849_PV_skeleton_graphs.pckle</td>\n",
       "      <td>0</td>\n",
       "      <td>22</td>\n",
       "      <td>0.847027</td>\n",
       "      <td>0.024682</td>\n",
       "      <td>5.0</td>\n",
       "      <td>7.0</td>\n",
       "      <td>3.666667</td>\n",
       "      <td>95.765084</td>\n",
       "      <td>0.019737</td>\n",
       "    </tr>\n",
       "    <tr>\n",
       "      <th>9</th>\n",
       "      <td>849_PV_skeleton_graphs.pckle</td>\n",
       "      <td>0</td>\n",
       "      <td>18</td>\n",
       "      <td>0.622440</td>\n",
       "      <td>0.036421</td>\n",
       "      <td>3.0</td>\n",
       "      <td>7.0</td>\n",
       "      <td>3.600000</td>\n",
       "      <td>95.765084</td>\n",
       "      <td>0.015989</td>\n",
       "    </tr>\n",
       "  </tbody>\n",
       "</table>\n",
       "</div>"
      ],
      "text/plain": [
       "                       basename  prune_label  pathlength  exterior2surface  \\\n",
       "0  671_PV_skeleton_graphs.pckle            0          23          0.775000   \n",
       "1  671_PV_skeleton_graphs.pckle            0          45          0.910923   \n",
       "2  671_PV_skeleton_graphs.pckle            0         137          0.922793   \n",
       "3  202_PV_skeleton_graphs.pckle            0           3          0.713208   \n",
       "4  202_PV_skeleton_graphs.pckle            0           6          0.732123   \n",
       "5  202_PV_skeleton_graphs.pckle            0         113          0.922076   \n",
       "6  849_PV_skeleton_graphs.pckle            0          21          0.658359   \n",
       "7  849_PV_skeleton_graphs.pckle            0          17          0.742336   \n",
       "8  849_PV_skeleton_graphs.pckle            0          22          0.847027   \n",
       "9  849_PV_skeleton_graphs.pckle            0          18          0.622440   \n",
       "\n",
       "   surface2volume  mindfe  maxdfe  length2width      depth     angle  \n",
       "0        0.101429     4.0     7.0      4.181818  50.074449  0.024576  \n",
       "1        0.075812     2.0     7.0     10.000000  50.074449  0.021655  \n",
       "2        0.063619     2.0     9.0     24.909091  14.517342  0.030480  \n",
       "3        0.345953     5.0     5.0      0.600000  60.433135  0.019737  \n",
       "4        0.377787     4.0     5.0      1.333333  60.433135  0.016531  \n",
       "5        0.200871     3.0     9.0     18.833333  10.903907  0.021772  \n",
       "6        0.030060     4.0     9.0      3.230769  85.675047  0.016949  \n",
       "7        0.033536     4.0     7.0      3.090909  95.765084  0.019737  \n",
       "8        0.024682     5.0     7.0      3.666667  95.765084  0.019737  \n",
       "9        0.036421     3.0     7.0      3.600000  95.765084  0.015989  "
      ]
     },
     "execution_count": 5,
     "metadata": {},
     "output_type": "execute_result"
    }
   ],
   "source": [
    "data1 = pd.read_table(\"data.txt\",\n",
    "    na_values=[\"None\"]).drop(\n",
    "    [\"edge_label\", \"minmaxdfe\"], axis=1)\n",
    "data1 = data1.fillna(data1.mean())\n",
    "data1.head(10)\n"
   ]
  },
  {
   "cell_type": "markdown",
   "metadata": {},
   "source": [
    "## Tests for Problem 1"
   ]
  },
  {
   "cell_type": "code",
   "execution_count": 6,
   "metadata": {
    "collapsed": true,
    "nbgrader": {
     "grade": true,
     "grade_id": "cell-092a4c8cba81de8e",
     "locked": true,
     "points": 5,
     "schema_version": 1,
     "solution": false
    }
   },
   "outputs": [],
   "source": [
    "assert_equal(type(data1), pd.core.frame.DataFrame)"
   ]
  },
  {
   "cell_type": "code",
   "execution_count": 7,
   "metadata": {
    "collapsed": true,
    "nbgrader": {
     "grade": true,
     "grade_id": "cell-4025eedd103f6b1c",
     "locked": true,
     "points": 5,
     "schema_version": 1,
     "solution": false
    }
   },
   "outputs": [],
   "source": [
    "assert_equal(data1.shape, (753, 10))"
   ]
  },
  {
   "cell_type": "code",
   "execution_count": 8,
   "metadata": {
    "collapsed": true,
    "nbgrader": {
     "grade": true,
     "grade_id": "cell-fc880e6d432d8859",
     "locked": true,
     "points": 0,
     "schema_version": 1,
     "solution": false
    }
   },
   "outputs": [],
   "source": [
    "assert_false(pd.isnull(data1[\"exterior2surface\"][70]))"
   ]
  },
  {
   "cell_type": "code",
   "execution_count": 9,
   "metadata": {
    "collapsed": true,
    "nbgrader": {
     "grade": true,
     "grade_id": "cell-b60e4a1a17c357b4",
     "locked": true,
     "points": 2,
     "schema_version": 1,
     "solution": false
    }
   },
   "outputs": [],
   "source": [
    "assert_false(pd.isnull(data1[\"angle\"][3]))"
   ]
  },
  {
   "cell_type": "code",
   "execution_count": 10,
   "metadata": {
    "collapsed": true,
    "nbgrader": {
     "grade": true,
     "grade_id": "cell-5ec8fea30bec179b",
     "locked": true,
     "points": 3,
     "schema_version": 1,
     "solution": false
    }
   },
   "outputs": [],
   "source": [
    "assert_false(pd.isnull(data1[\"mindfe\"][732]))"
   ]
  },
  {
   "cell_type": "code",
   "execution_count": 11,
   "metadata": {
    "collapsed": true,
    "nbgrader": {
     "grade": true,
     "grade_id": "cell-fe95326b65ea2b0a",
     "locked": true,
     "points": 0,
     "schema_version": 1,
     "solution": false
    }
   },
   "outputs": [],
   "source": [
    "assert_almost_equal(data1[\"mindfe\"][732], 4.1495063469675602)"
   ]
  },
  {
   "cell_type": "code",
   "execution_count": 12,
   "metadata": {
    "collapsed": true,
    "nbgrader": {
     "grade": true,
     "grade_id": "cell-c45f0ad5ec2adcf6",
     "locked": true,
     "points": 5,
     "schema_version": 1,
     "solution": false
    }
   },
   "outputs": [],
   "source": [
    "assert_almost_equal(data1[\"surface2volume\"][487], 0.18442677365429211)"
   ]
  },
  {
   "cell_type": "code",
   "execution_count": 13,
   "metadata": {
    "collapsed": true,
    "nbgrader": {
     "grade": true,
     "grade_id": "cell-b4c46ca32e766387",
     "locked": true,
     "points": 0,
     "schema_version": 1,
     "solution": false
    }
   },
   "outputs": [],
   "source": [
    "assert_true(\"maxdfe\" in data1.columns)"
   ]
  },
  {
   "cell_type": "code",
   "execution_count": 14,
   "metadata": {
    "collapsed": true,
    "nbgrader": {
     "grade": true,
     "grade_id": "cell-35be7e5c8a2efdd7",
     "locked": true,
     "points": 2,
     "schema_version": 1,
     "solution": false
    }
   },
   "outputs": [],
   "source": [
    "assert_true(\"depth\" in data1.columns)"
   ]
  },
  {
   "cell_type": "code",
   "execution_count": 15,
   "metadata": {
    "collapsed": true,
    "nbgrader": {
     "grade": true,
     "grade_id": "cell-fbc94f76dff38ab4",
     "locked": true,
     "points": 0,
     "schema_version": 1,
     "solution": false
    }
   },
   "outputs": [],
   "source": [
    "assert_false(\"edge_label\" in data1.columns)"
   ]
  },
  {
   "cell_type": "code",
   "execution_count": 16,
   "metadata": {
    "collapsed": true,
    "nbgrader": {
     "grade": true,
     "grade_id": "cell-754d3dba1cdcf3a2",
     "locked": true,
     "points": 3,
     "schema_version": 1,
     "solution": false
    }
   },
   "outputs": [],
   "source": [
    "assert_false(\"minmaxdfe\" in data1.columns)"
   ]
  },
  {
   "cell_type": "markdown",
   "metadata": {
    "nbgrader": {
     "grade": false,
     "grade_id": "cell-5de60450f5571827",
     "locked": true,
     "schema_version": 1,
     "solution": false
    }
   },
   "source": [
    "**Problem 2 (10 points):** Write a function `get_date` that takes a single positional argument and uses the parser defined in the [dateutil](http://dateutil.readthedocs.io/en/stable/parser.html#dateutil.parser.parse) package to convert the argument to a [`datetime`](https://docs.python.org/3/library/datetime.html) [`date`](https://docs.python.org/3/library/datetime.html#datetime.date) object. If the argument cannot be converted to a `date` object, the function should return a [Pandas `NaT`](https://pandas.pydata.org/pandas-docs/stable/missing_data.html#datetimes) (not a time) object.\n"
   ]
  },
  {
   "cell_type": "code",
   "execution_count": 17,
   "metadata": {
    "collapsed": true,
    "nbgrader": {
     "grade": false,
     "grade_id": "cell-5db86753d6569855",
     "locked": false,
     "schema_version": 1,
     "solution": true
    }
   },
   "outputs": [],
   "source": [
    "def get_date(x):\n",
    "    try:\n",
    "        return parser.parse(x).date()\n",
    "    except:\n",
    "        return pd.NaT"
   ]
  },
  {
   "cell_type": "markdown",
   "metadata": {},
   "source": [
    "## Tests for Problem 2"
   ]
  },
  {
   "cell_type": "code",
   "execution_count": 18,
   "metadata": {
    "collapsed": true,
    "nbgrader": {
     "grade": true,
     "grade_id": "cell-a8491be3cd38b9d5",
     "locked": true,
     "points": 0,
     "schema_version": 1,
     "solution": false
    }
   },
   "outputs": [],
   "source": [
    "assert_equal(get_date(\"5/17/2007\"), datetime.date(2007, 5, 17))"
   ]
  },
  {
   "cell_type": "code",
   "execution_count": 19,
   "metadata": {
    "collapsed": false,
    "nbgrader": {
     "grade": true,
     "grade_id": "cell-6bb0dc2a182992bb",
     "locked": true,
     "points": 0,
     "schema_version": 1,
     "solution": false
    }
   },
   "outputs": [],
   "source": [
    "assert_true(pd.isnull(get_date(\"Hello\")))"
   ]
  },
  {
   "cell_type": "code",
   "execution_count": 20,
   "metadata": {
    "collapsed": true,
    "nbgrader": {
     "grade": true,
     "grade_id": "cell-304f2dd43a0f9976",
     "locked": true,
     "points": 5,
     "schema_version": 1,
     "solution": false
    }
   },
   "outputs": [],
   "source": [
    "assert_equal(get_date(\"1/01/2001\"), datetime.date(2001, 1, 1))"
   ]
  },
  {
   "cell_type": "code",
   "execution_count": 21,
   "metadata": {
    "collapsed": true,
    "nbgrader": {
     "grade": true,
     "grade_id": "cell-95ecb610a1de2481",
     "locked": true,
     "points": 5,
     "schema_version": 1,
     "solution": false
    }
   },
   "outputs": [],
   "source": [
    "assert_false(pd.isnull(get_date(\"15:34\")))"
   ]
  },
  {
   "cell_type": "markdown",
   "metadata": {
    "nbgrader": {
     "grade": false,
     "grade_id": "cell-655687760eea9f78",
     "locked": true,
     "schema_version": 1,
     "solution": false
    }
   },
   "source": [
    "**Problem 3 (5 points):** Write a function get_date that takes a single positional argument and uses the parser defined in the dateutil package to convert the argument to a datetime time object. If the argument cannot be converted to a time object, the function should return a Pandas NaT (not a time) object."
   ]
  },
  {
   "cell_type": "code",
   "execution_count": 22,
   "metadata": {
    "collapsed": true,
    "nbgrader": {
     "grade": false,
     "grade_id": "cell-ed5f1125c841cb25",
     "locked": false,
     "schema_version": 1,
     "solution": true
    }
   },
   "outputs": [],
   "source": [
    "def get_time(x):\n",
    "    try:\n",
    "        return parser.parse(x).time()\n",
    "    except:\n",
    "        return pd.NaT"
   ]
  },
  {
   "cell_type": "markdown",
   "metadata": {},
   "source": [
    "## Tests for  Problem 3"
   ]
  },
  {
   "cell_type": "code",
   "execution_count": 23,
   "metadata": {
    "collapsed": true,
    "nbgrader": {
     "grade": true,
     "grade_id": "cell-81bf30ac02a094bf",
     "locked": true,
     "points": 2,
     "schema_version": 1,
     "solution": false
    }
   },
   "outputs": [],
   "source": [
    "assert_true(pd.isnull(get_time(\"Hello\")))"
   ]
  },
  {
   "cell_type": "code",
   "execution_count": 24,
   "metadata": {
    "collapsed": true,
    "nbgrader": {
     "grade": true,
     "grade_id": "cell-1c814383db8fce36",
     "locked": true,
     "points": 3,
     "schema_version": 1,
     "solution": false
    }
   },
   "outputs": [],
   "source": [
    "assert_equal(get_time(\"15:34\"), datetime.time(15,34))"
   ]
  },
  {
   "cell_type": "markdown",
   "metadata": {
    "nbgrader": {
     "grade": false,
     "grade_id": "cell-0541d205d1499d62",
     "locked": true,
     "schema_version": 1,
     "solution": false
    }
   },
   "source": [
    "**Problem 4 (15 points):** Write a function `get_range` that takes a positional argument containing a string from which to extract a range and a keyword argument named `delimiter` that has a string indicating the delimiter between the low and high values of the range. The function should **try** to return a tuple of two floating point values (the low range value and the high range value). \n",
    "\n",
    "The function should return a two-tuple `np.nan` values  (`(np.nan, np.nan)`) for the following conditions:\n",
    "\n",
    "1. The string does not contain exactly one instance of `delimiter`.\n",
    "1. The attempt to extract two floating point values fails.   \n",
    "\n",
    "If either the positional or keyword arguments are not strings, return a `TypeError`."
   ]
  },
  {
   "cell_type": "code",
   "execution_count": 25,
   "metadata": {
    "collapsed": true,
    "nbgrader": {
     "grade": false,
     "grade_id": "cell-e8ca21293ad89c6d",
     "locked": false,
     "schema_version": 1,
     "solution": true
    }
   },
   "outputs": [],
   "source": [
    "def get_range(x, delimiter='-'):\n",
    "    if not type(x) == str:\n",
    "        raise TypeError(\"argument must be a string\")\n",
    "    if not type(delimiter) == str:\n",
    "        raise TypeError(\"delimiter must be  string\")\n",
    "    try:\n",
    "        tmp = x.split(delimiter)\n",
    "        if len(tmp) != 2:\n",
    "            return (np.nan,np.nan)\n",
    "        return (float(tmp[0]), float(tmp[1]))\n",
    "    except:\n",
    "        return (np.nan, np.nan)"
   ]
  },
  {
   "cell_type": "markdown",
   "metadata": {},
   "source": [
    "## Tests for Problem 4"
   ]
  },
  {
   "cell_type": "code",
   "execution_count": 26,
   "metadata": {
    "collapsed": true,
    "nbgrader": {
     "grade": true,
     "grade_id": "cell-3e45e066448be1f0",
     "locked": true,
     "points": 2,
     "schema_version": 1,
     "solution": false
    }
   },
   "outputs": [],
   "source": [
    "assert_raises(TypeError, get_range, 5.4)"
   ]
  },
  {
   "cell_type": "code",
   "execution_count": 27,
   "metadata": {
    "collapsed": true,
    "nbgrader": {
     "grade": true,
     "grade_id": "cell-74138019787f16f8",
     "locked": true,
     "points": 3,
     "schema_version": 1,
     "solution": false
    }
   },
   "outputs": [],
   "source": [
    "assert_raises(TypeError, get_range, 5.4, delimiter=(5,4,3))"
   ]
  },
  {
   "cell_type": "code",
   "execution_count": 28,
   "metadata": {
    "collapsed": true,
    "nbgrader": {
     "grade": true,
     "grade_id": "cell-7169e27bcd70d566",
     "locked": true,
     "points": 0,
     "schema_version": 1,
     "solution": false
    }
   },
   "outputs": [],
   "source": [
    "assert_true(np.isnan(get_range(\"12-24-1972\")).all())"
   ]
  },
  {
   "cell_type": "code",
   "execution_count": 29,
   "metadata": {
    "collapsed": true,
    "nbgrader": {
     "grade": true,
     "grade_id": "cell-593d149049688ba0",
     "locked": true,
     "points": 0,
     "schema_version": 1,
     "solution": false
    }
   },
   "outputs": [],
   "source": [
    "assert_equal(get_range(\"15-20\"), (15,20))"
   ]
  },
  {
   "cell_type": "code",
   "execution_count": 30,
   "metadata": {
    "collapsed": true,
    "nbgrader": {
     "grade": true,
     "grade_id": "cell-c563f84b6669df5d",
     "locked": true,
     "points": 3,
     "schema_version": 1,
     "solution": false
    }
   },
   "outputs": [],
   "source": [
    "assert_true(np.isnan(get_range(\"5-24-1968\")).all())"
   ]
  },
  {
   "cell_type": "code",
   "execution_count": 31,
   "metadata": {
    "collapsed": true,
    "nbgrader": {
     "grade": true,
     "grade_id": "cell-bd3a94e5c9ca5805",
     "locked": true,
     "points": 2,
     "schema_version": 1,
     "solution": false
    }
   },
   "outputs": [],
   "source": [
    "assert_true(np.isnan(get_range(\"Hello\")).all())"
   ]
  },
  {
   "cell_type": "code",
   "execution_count": 32,
   "metadata": {
    "collapsed": true,
    "nbgrader": {
     "grade": true,
     "grade_id": "cell-0b550ff356f19caa",
     "locked": true,
     "points": 5,
     "schema_version": 1,
     "solution": false
    }
   },
   "outputs": [],
   "source": [
    "assert_almost_equal(get_range(\"1.4-2.0\"), (1.4,2.0))"
   ]
  },
  {
   "cell_type": "markdown",
   "metadata": {
    "nbgrader": {
     "grade": false,
     "grade_id": "cell-e5fe2ab21e18819a",
     "locked": true,
     "schema_version": 1,
     "solution": false
    }
   },
   "source": [
    "**Problem 5 (10 points):** Write a function `is_number` that takes a single positional argument and returns True if that argument can be converted to a `float` and `false` if it cannot."
   ]
  },
  {
   "cell_type": "code",
   "execution_count": 33,
   "metadata": {
    "collapsed": true,
    "nbgrader": {
     "grade": false,
     "grade_id": "cell-e5775eac7f9cf462",
     "locked": false,
     "schema_version": 1,
     "solution": true
    }
   },
   "outputs": [],
   "source": [
    "def is_number(x):\n",
    "    try:\n",
    "        float(x)\n",
    "        return True\n",
    "    except:\n",
    "        return False"
   ]
  },
  {
   "cell_type": "markdown",
   "metadata": {},
   "source": [
    "## Tests for Problem 5"
   ]
  },
  {
   "cell_type": "code",
   "execution_count": 34,
   "metadata": {
    "collapsed": true,
    "nbgrader": {
     "grade": true,
     "grade_id": "cell-5a5e78ec1a999d97",
     "locked": true,
     "points": 0,
     "schema_version": 1,
     "solution": false
    }
   },
   "outputs": [],
   "source": [
    "assert_true(is_number(\"5.3e4\"))"
   ]
  },
  {
   "cell_type": "code",
   "execution_count": 35,
   "metadata": {
    "collapsed": true,
    "nbgrader": {
     "grade": true,
     "grade_id": "cell-ece8aebfca0bfaeb",
     "locked": true,
     "points": 0,
     "schema_version": 1,
     "solution": false
    }
   },
   "outputs": [],
   "source": [
    "assert_false(is_number(\">5000\"))"
   ]
  },
  {
   "cell_type": "code",
   "execution_count": 36,
   "metadata": {
    "collapsed": true,
    "nbgrader": {
     "grade": true,
     "grade_id": "cell-5fd7f943c02e72bd",
     "locked": true,
     "points": 5,
     "schema_version": 1,
     "solution": false
    }
   },
   "outputs": [],
   "source": [
    "assert_true(is_number(\"5.45\"))"
   ]
  },
  {
   "cell_type": "code",
   "execution_count": 37,
   "metadata": {
    "collapsed": true,
    "nbgrader": {
     "grade": true,
     "grade_id": "cell-567f714caf748bb3",
     "locked": true,
     "points": 5,
     "schema_version": 1,
     "solution": false
    }
   },
   "outputs": [],
   "source": [
    "assert_false(is_number(\"5.45r\"))"
   ]
  },
  {
   "cell_type": "markdown",
   "metadata": {
    "nbgrader": {
     "grade": false,
     "grade_id": "cell-d567ba222b958885",
     "locked": true,
     "schema_version": 1,
     "solution": false
    }
   },
   "source": [
    "**Problem 6 (5 points):** Write a function `get_value` that takes a single positional argument (e.g. `x`) and returns `x` converted to a float. If the conversion fails, return `np.nan`."
   ]
  },
  {
   "cell_type": "code",
   "execution_count": 38,
   "metadata": {
    "collapsed": true,
    "nbgrader": {
     "grade": false,
     "grade_id": "cell-2dffeb667ae8c468",
     "locked": false,
     "schema_version": 1,
     "solution": true
    }
   },
   "outputs": [],
   "source": [
    "def get_value(x):\n",
    "    try:\n",
    "        return float(x)\n",
    "    except:\n",
    "        return np.nan"
   ]
  },
  {
   "cell_type": "markdown",
   "metadata": {},
   "source": [
    "## Tests for Problem 6"
   ]
  },
  {
   "cell_type": "code",
   "execution_count": 39,
   "metadata": {
    "collapsed": true,
    "nbgrader": {
     "grade": true,
     "grade_id": "cell-054827c5de345630",
     "locked": true,
     "points": 2,
     "schema_version": 1,
     "solution": false
    }
   },
   "outputs": [],
   "source": [
    "assert_true(np.isnan(get_value(\"[5.4]\")))"
   ]
  },
  {
   "cell_type": "code",
   "execution_count": 40,
   "metadata": {
    "collapsed": true,
    "nbgrader": {
     "grade": true,
     "grade_id": "cell-e4e569a39d5f20aa",
     "locked": true,
     "points": 3,
     "schema_version": 1,
     "solution": false
    }
   },
   "outputs": [],
   "source": [
    "assert_equal(get_value(\"5.7\"), 5.7)"
   ]
  },
  {
   "cell_type": "markdown",
   "metadata": {},
   "source": [
    "### For the following problems we will use the `sampleLabs.txt` file\n",
    "#### In this directory is a file (`sampleLabs.txt`) with a set of lab values. The file includes lab values obtained on different individuals during their in-patient hospitalizations. "
   ]
  },
  {
   "cell_type": "markdown",
   "metadata": {
    "nbgrader": {
     "grade": false,
     "grade_id": "cell-a26983e1acb4e4a6",
     "locked": true,
     "schema_version": 1,
     "solution": false
    }
   },
   "source": [
    "**Problem 7 (15 points)**: Use `is_number()`, list comprehension, and the Pandas Series `unique` method to create a list of all non-numeric values in the `result` Series of `lab_data`. By non-numeric, I mean any value that cannot be converted to a `float`."
   ]
  },
  {
   "cell_type": "code",
   "execution_count": 41,
   "metadata": {
    "collapsed": true,
    "nbgrader": {
     "grade": false,
     "grade_id": "cell-3456eb0295551017",
     "locked": false,
     "schema_version": 1,
     "solution": true
    }
   },
   "outputs": [],
   "source": [
    "non_number_results = None\n",
    "lab_data = pd.read_table(\"sampleLabs.txt\")\n",
    "\n",
    "non_number_results = \\\n",
    "    [x for x in lab_data[\"result\"].unique() if not is_number(x)]\n"
   ]
  },
  {
   "cell_type": "markdown",
   "metadata": {},
   "source": [
    "## Tests for Problem 7"
   ]
  },
  {
   "cell_type": "code",
   "execution_count": 42,
   "metadata": {
    "collapsed": true,
    "nbgrader": {
     "grade": true,
     "grade_id": "cell-556d11607452a963",
     "locked": true,
     "points": 5,
     "schema_version": 1,
     "solution": false
    }
   },
   "outputs": [],
   "source": [
    "assert_true(type(non_number_results)==list)"
   ]
  },
  {
   "cell_type": "code",
   "execution_count": 43,
   "metadata": {
    "collapsed": true,
    "nbgrader": {
     "grade": true,
     "grade_id": "cell-161eccac12e719b5",
     "locked": true,
     "points": 10,
     "schema_version": 1,
     "solution": false
    }
   },
   "outputs": [],
   "source": [
    "assert_equal(non_number_results,\n",
    "             ['MISL', 'ID', '>5000', '<2', 'RQ', 'CNTM', 'A', \n",
    "              'Mislabeled', 'RQER', 'LERR', 'NCAL', 'NDA', 'QNS'])"
   ]
  },
  {
   "cell_type": "markdown",
   "metadata": {},
   "source": [
    "**Problem 8. (40 Points):**  Use Pandas to write a function named `read_labs` that does the following:\n",
    "\n",
    "* Takes the name of the file to read as a positional argument\n",
    "* Takes as a keyword argument named `converters` a dictionary with keys equal to the test component names (columns in DataFrame) and as values, functions that convert the expected column value to the appropriate type. You should use the ordered dictionary (`converters`) I define below.\n",
    "* Reads the contents of the input file into a **default dictionary** keyed by **visitid**. The value for each **visitid** should be a **list** of tests. For each row, use `converters` to convert the row value from a string to the appropriate data type (eg. float, datetime.date). Each test result result should be stored as a tuple of 2-tuples with the first element being the explanatory metadata (i.e, the column name) and the second element being the converted value.\n",
    "\n",
    "#### Hints\n",
    "\n",
    "1. Use the DataFrame `iterrows` method to iterate over each row in the DataFrame.\n",
    "1. Use the function `get_test_values` to convert the data types of each row.\n",
    "1. Use slicing on the row to grab the test values (`visitid` is going to be the key for the dictionary and should not be part of the test result tuple.\n",
    "1. A row is a Pandas Series and we can access the elements of the row using either an index or the column name:\n",
    "\n",
    "```Python\n",
    "print(row)\n",
    "print()\n",
    "print(row[2])\n",
    "print(row[\"ctime\"])\n",
    "\n",
    "visitid    OMHioJh8XEeq7152\n",
    "cdate             6/13/2007\n",
    "ctime                 06:30\n",
    "pqno       1181750718122403\n",
    "test                  CREAT\n",
    "result                  1.0\n",
    "unit                  mg/dL\n",
    "range               0.5-1.4\n",
    "Name: 5, dtype: object\n",
    "\n",
    "06:30\n",
    "06:30\n",
    "```\n",
    "\n",
    "Your resulting output should look something like this:\n",
    "\n",
    "```Python\n",
    "defaultdict(list,\n",
    "            {'+yhZLyY5Uqra5115': [[('cdate', datetime.date(2005, 4, 29)),\n",
    "               ('ctime', datetime.time(6, 30)),\n",
    "               ('pqno', 1114780124780442),\n",
    "               ('test', 'CREAT'),\n",
    "               ('result', 3.4),\n",
    "               ('unit', 'mg/dL'),\n",
    "               ('range', (0.5, 1.4))],\n",
    "              [('cdate', datetime.date(2005, 4, 28)),\n",
    "               ('ctime', datetime.time(6, 45)),\n",
    "               ('pqno', 1114692308737109),\n",
    "               ('test', 'CREAT'),\n",
    "               ('result', 8.6),\n",
    "               ('unit', 'mg/dL'),\n",
    "               ('range', (0.5, 1.4))],\n",
    "              [('cdate', datetime.date(2005, 5, 2)),\n",
    "               ('ctime', datetime.time(4, 0)),\n",
    "               ('pqno', 1115041801503288),\n",
    "               ('test', 'CREAT'),\n",
    "               ('result', 1.6),\n",
    "               ('unit', 'mg/dL'),\n",
    "               ('range', (0.5, 1.4))],\n",
    "              [('cdate', datetime.date(2005, 4, 30)),\n",
    "               ('ctime', datetime.time(4, 0)),\n",
    "               ('pqno', 1114875733484671),\n",
    "               ('test', 'CREAT'),\n",
    "               ('result', 1.9),\n",
    "               ('unit', 'mg/dL'),\n",
    "               ('range', (0.5, 1.4))],\n",
    "              [('cdate', datetime.date(2005, 4, 26)),\n",
    "               ('ctime', datetime.time(16, 5)),\n",
    "               ('pqno', 1114551787814371),\n",
    "               ('test', 'CREAT'),\n",
    "               ('result', 16.0),\n",
    "               ('unit', 'mg/dL'),\n",
    "               ('range', (0.5, 1.4))],\n",
    "              [('cdate', datetime.date(2005, 5, 1)),\n",
    "               ('ctime', datetime.time(4, 0)),\n",
    "               ('pqno', 1114957388877371),\n",
    "               ('test', 'CREAT'),\n",
    "               ('result', 1.7),\n",
    "               ('unit', 'mg/dL'),\n",
    "               ('range', (0.5, 1.4))]],}\n",
    "```"
   ]
  },
  {
   "cell_type": "code",
   "execution_count": 44,
   "metadata": {
    "collapsed": true,
    "nbgrader": {
     "grade": false,
     "grade_id": "cell-c13c74c623a070b3",
     "locked": true,
     "schema_version": 1,
     "solution": false
    }
   },
   "outputs": [],
   "source": [
    "from collections import OrderedDict\n",
    "converters = OrderedDict((('cdate', get_date), \n",
    "                          ('ctime', get_time), \n",
    "                          ('pqno', lambda x:x), \n",
    "                          ('test', lambda x:x), \n",
    "                          ('result', get_value), \n",
    "                          ('unit', lambda x:x), \n",
    "                          ('range', get_range)))"
   ]
  },
  {
   "cell_type": "code",
   "execution_count": 45,
   "metadata": {
    "collapsed": true,
    "nbgrader": {
     "grade": false,
     "grade_id": "cell-03d7de4141bc1410",
     "locked": false,
     "schema_version": 1,
     "solution": true
    }
   },
   "outputs": [],
   "source": [
    "import datetime\n",
    "import os\n",
    "import pandas as pd\n",
    "from collections import defaultdict\n",
    "\n",
    "        \n",
    "def get_test_values(row, converters):\n",
    "    \"\"\"\n",
    "    Arguments:\n",
    "        row: A row from a Pandas DataFrame\n",
    "        converters: A Dictionary with keys the DataFrame column names and \n",
    "            values functions to convert each column value\n",
    "    Returns:\n",
    "        A tuple of two-tuples. Each two-tuple consists of the column name\n",
    "            and the converted column value\n",
    "    \"\"\"\n",
    "    return tuple((ax,conv(row[ax])) for ax,conv in converters.items())\n",
    "\n",
    "def read_labs(fname, converters):\n",
    "    \"\"\"\n",
    "    Arguments:\n",
    "        fname: Path to a file containing lab values\n",
    "        converters: A Dictionary with keys the DataFrame column names and \n",
    "            values functions to convert each column value\n",
    "    Returns:\n",
    "        A default dictionary with keys being the visitid and values\n",
    "            begin a list of test results\n",
    "    \"\"\"\n",
    "\n",
    "    data = pd.read_table(fname)\n",
    "    labs = defaultdict(list)\n",
    "    for _, row in data.iterrows():\n",
    "        labs[row[\"visitid\"]].append(get_test_values(row[1:], converters))\n",
    "\n",
    "    return labs\n"
   ]
  },
  {
   "cell_type": "markdown",
   "metadata": {},
   "source": [
    "## Tests for Problem 8"
   ]
  },
  {
   "cell_type": "code",
   "execution_count": 46,
   "metadata": {
    "collapsed": true,
    "nbgrader": {
     "grade": false,
     "grade_id": "cell-9d5575c03fda4dac",
     "locked": true,
     "schema_version": 1,
     "solution": false
    }
   },
   "outputs": [],
   "source": [
    "sorted_labs = read_labs(\"samplelabs.txt\", converters)"
   ]
  },
  {
   "cell_type": "code",
   "execution_count": 47,
   "metadata": {
    "collapsed": true,
    "nbgrader": {
     "grade": true,
     "grade_id": "cell-8ced45219fdd9711",
     "locked": true,
     "points": 5,
     "schema_version": 1,
     "solution": false
    }
   },
   "outputs": [],
   "source": [
    "assert_equal(sorted_labs['X4HZ5/mbdrls7055'][8][1][1], datetime.time(4, 4))"
   ]
  },
  {
   "cell_type": "code",
   "execution_count": 48,
   "metadata": {
    "collapsed": true,
    "nbgrader": {
     "grade": true,
     "grade_id": "cell-54f1522d387b02f1",
     "locked": true,
     "points": 5,
     "schema_version": 1,
     "solution": false
    }
   },
   "outputs": [],
   "source": [
    "assert_almost_equal(sorted_labs[\"3WobBYVBHdIa6106\"][5][6][1],(0.5,1.4))"
   ]
  },
  {
   "cell_type": "code",
   "execution_count": 49,
   "metadata": {
    "collapsed": true,
    "nbgrader": {
     "grade": true,
     "grade_id": "cell-3aa0b756312408ff",
     "locked": true,
     "points": 5,
     "schema_version": 1,
     "solution": false
    }
   },
   "outputs": [],
   "source": [
    "assert_true('QLE6UIMptiKf5228' in sorted_labs)"
   ]
  },
  {
   "cell_type": "code",
   "execution_count": 50,
   "metadata": {
    "collapsed": true,
    "nbgrader": {
     "grade": true,
     "grade_id": "cell-996eb2c6d4ce08ea",
     "locked": true,
     "points": 5,
     "schema_version": 1,
     "solution": false
    }
   },
   "outputs": [],
   "source": [
    "assert_equal(len(sorted_labs['n9b8R+Aynzy+5257']),  31)"
   ]
  },
  {
   "cell_type": "code",
   "execution_count": 51,
   "metadata": {
    "collapsed": true,
    "nbgrader": {
     "grade": true,
     "grade_id": "cell-b23ec7c9eb0d9b9a",
     "locked": true,
     "points": 5,
     "schema_version": 1,
     "solution": false
    }
   },
   "outputs": [],
   "source": [
    "assert_equal(sorted_labs['yyutduwkJpYJ7131'][1][1], \n",
    "             ('ctime', datetime.time(6, 15)))"
   ]
  },
  {
   "cell_type": "code",
   "execution_count": 52,
   "metadata": {
    "collapsed": true,
    "nbgrader": {
     "grade": true,
     "grade_id": "cell-81c651eb76ec7312",
     "locked": true,
     "points": 5,
     "schema_version": 1,
     "solution": false
    }
   },
   "outputs": [],
   "source": [
    "assert_true(type(sorted_labs['yyutduwkJpYJ7131'][1]),tuple)"
   ]
  },
  {
   "cell_type": "code",
   "execution_count": 53,
   "metadata": {
    "collapsed": true,
    "nbgrader": {
     "grade": true,
     "grade_id": "cell-8ebc48c309376589",
     "locked": true,
     "points": 5,
     "schema_version": 1,
     "solution": false
    }
   },
   "outputs": [],
   "source": [
    "assert_true(np.isnan(sorted_labs['deaOcpSo0N617039'][14][4][1]))"
   ]
  },
  {
   "cell_type": "code",
   "execution_count": 54,
   "metadata": {
    "collapsed": true,
    "nbgrader": {
     "grade": true,
     "grade_id": "cell-4e60f6362afad4f4",
     "locked": true,
     "points": 5,
     "schema_version": 1,
     "solution": false
    }
   },
   "outputs": [],
   "source": [
    "assert_true(np.isnan(sorted_labs['QLE6UIMptiKf5228'][17][6][1]).all())"
   ]
  }
 ],
 "metadata": {
  "anaconda-cloud": {},
  "celltoolbar": "Create Assignment",
  "kernelspec": {
   "display_name": "Python [default]",
   "language": "python",
   "name": "python3"
  },
  "language_info": {
   "codemirror_mode": {
    "name": "ipython",
    "version": 3
   },
   "file_extension": ".py",
   "mimetype": "text/x-python",
   "name": "python",
   "nbconvert_exporter": "python",
   "pygments_lexer": "ipython3",
   "version": "3.5.2"
  }
 },
 "nbformat": 4,
 "nbformat_minor": 1
}
