{
 "cells": [
  {
   "cell_type": "markdown",
   "metadata": {
    "nbgrader": {
     "grade": false,
     "grade_id": "cell-b361279a9de44e2f",
     "locked": true,
     "schema_version": 1,
     "solution": false
    }
   },
   "source": [
    "# Classes and Object Oriented Programming\n",
    "## Color"
   ]
  },
  {
   "cell_type": "code",
   "execution_count": 41,
   "metadata": {
    "collapsed": true,
    "nbgrader": {
     "grade": false,
     "grade_id": "cell-a3eea0c8ad173b13",
     "locked": true,
     "schema_version": 1,
     "solution": false
    }
   },
   "outputs": [],
   "source": [
    "from nose.tools import assert_equal, assert_true, assert_false, assert_raises, assert_almost_equal"
   ]
  },
  {
   "cell_type": "markdown",
   "metadata": {
    "nbgrader": {
     "grade": false,
     "grade_id": "cell-80d37fc90330b1d8",
     "locked": true,
     "schema_version": 1,
     "solution": false
    }
   },
   "source": [
    "**Problem 1 (10 points):** Implement `validate_alpha`. The function takes an argument, alpha, and returns alpha as a floating point number. If alpha is not between 0 and 1, a `ValueError` is raised.\n",
    "\n"
   ]
  },
  {
   "cell_type": "code",
   "execution_count": 44,
   "metadata": {
    "collapsed": true,
    "nbgrader": {
     "grade": false,
     "grade_id": "cell-60eb0cfb3c74494f",
     "locked": false,
     "schema_version": 1,
     "solution": true
    }
   },
   "outputs": [],
   "source": [
    "def validate_alpha(alpha):\n",
    "    alpha = float(alpha)\n",
    "    if alpha < 0 or alpha > 1:\n",
    "        raise ValueError(\"alpha must be between 0 and 1\")\n",
    "    return alpha\n",
    "    "
   ]
  },
  {
   "cell_type": "markdown",
   "metadata": {},
   "source": [
    "## Tests for Problem 1"
   ]
  },
  {
   "cell_type": "code",
   "execution_count": 8,
   "metadata": {
    "collapsed": true,
    "nbgrader": {
     "grade": true,
     "grade_id": "cell-6363ecb34040617b",
     "locked": true,
     "points": 3,
     "schema_version": 1,
     "solution": false
    }
   },
   "outputs": [],
   "source": [
    "assert_equal(validate_alpha(\"0.15\"), 0.15)"
   ]
  },
  {
   "cell_type": "code",
   "execution_count": 10,
   "metadata": {
    "collapsed": true,
    "nbgrader": {
     "grade": true,
     "grade_id": "cell-d0598995b8b0768a",
     "locked": true,
     "points": 2,
     "schema_version": 1,
     "solution": false
    }
   },
   "outputs": [],
   "source": [
    "assert_equal(validate_alpha(0.15), 0.15)"
   ]
  },
  {
   "cell_type": "code",
   "execution_count": 12,
   "metadata": {
    "collapsed": true,
    "nbgrader": {
     "grade": true,
     "grade_id": "cell-a266fa5d6e4bcb82",
     "locked": true,
     "points": 2,
     "schema_version": 1,
     "solution": false
    }
   },
   "outputs": [],
   "source": [
    "assert_raises(TypeError, validate_alpha, [3.4])"
   ]
  },
  {
   "cell_type": "code",
   "execution_count": 13,
   "metadata": {
    "collapsed": true,
    "nbgrader": {
     "grade": true,
     "grade_id": "cell-8ea717d8a41a2b72",
     "locked": true,
     "points": 3,
     "schema_version": 1,
     "solution": false
    }
   },
   "outputs": [],
   "source": [
    "assert_raises(ValueError, validate_alpha, 3.4)"
   ]
  },
  {
   "cell_type": "markdown",
   "metadata": {},
   "source": [
    "**Problem 2 (10 points):** Implement `validate_alpha`. The function takes an argument, alpha, and returns alpha as a floating point number. If alpha is not between 0 and 1, a `ValueError` is raised."
   ]
  },
  {
   "cell_type": "code",
   "execution_count": 14,
   "metadata": {
    "collapsed": true,
    "nbgrader": {
     "grade": false,
     "grade_id": "cell-521bbc4e5b44df30",
     "locked": false,
     "schema_version": 1,
     "solution": true
    }
   },
   "outputs": [],
   "source": [
    "def validate_color(color):\n",
    "    color = int(color)\n",
    "    if color <0 or color > 255:\n",
    "        raise ValueError(\"color must be between 0 and 255\")\n",
    "    return color"
   ]
  },
  {
   "cell_type": "markdown",
   "metadata": {},
   "source": [
    "## Tests for Problem 2"
   ]
  },
  {
   "cell_type": "code",
   "execution_count": 15,
   "metadata": {
    "collapsed": true,
    "nbgrader": {
     "grade": true,
     "grade_id": "cell-ce5a0832c25a103a",
     "locked": true,
     "points": 2,
     "schema_version": 1,
     "solution": false
    }
   },
   "outputs": [],
   "source": [
    "assert_raises(TypeError, validate_color, [])"
   ]
  },
  {
   "cell_type": "code",
   "execution_count": 16,
   "metadata": {
    "collapsed": true,
    "nbgrader": {
     "grade": true,
     "grade_id": "cell-2c0476bdd9854f86",
     "locked": true,
     "points": 2,
     "schema_version": 1,
     "solution": false
    }
   },
   "outputs": [],
   "source": [
    "assert_raises(ValueError, validate_color, -5)"
   ]
  },
  {
   "cell_type": "code",
   "execution_count": 17,
   "metadata": {
    "collapsed": true,
    "nbgrader": {
     "grade": true,
     "grade_id": "cell-38422f742a9a6c64",
     "locked": true,
     "points": 2,
     "schema_version": 1,
     "solution": false
    }
   },
   "outputs": [],
   "source": [
    "assert_raises(ValueError, validate_color, 500)"
   ]
  },
  {
   "cell_type": "code",
   "execution_count": 18,
   "metadata": {
    "collapsed": true,
    "nbgrader": {
     "grade": true,
     "grade_id": "cell-e83b4831e56ff17a",
     "locked": true,
     "points": 2,
     "schema_version": 1,
     "solution": false
    }
   },
   "outputs": [],
   "source": [
    "assert_equal(validate_color(55), 55)"
   ]
  },
  {
   "cell_type": "code",
   "execution_count": 19,
   "metadata": {
    "collapsed": true,
    "nbgrader": {
     "grade": true,
     "grade_id": "cell-bde44a1ffca4b381",
     "locked": true,
     "points": 2,
     "schema_version": 1,
     "solution": false
    }
   },
   "outputs": [],
   "source": [
    "assert_equal(validate_color(47.3), 47)"
   ]
  },
  {
   "cell_type": "markdown",
   "metadata": {},
   "source": [
    "**Problem 3. (30 Points):** Define a named tuple ``rgbalpha`` that represents an RGB$\\alpha$ color. Define an `rgba` class that inherits from the ``rgbalpha`` named tuple and adds an attribute name. \n",
    "\n",
    "Because we are inheriting from an immutable class, we need to do our validation of the color using a [`__new__`](https://docs.python.org/3/reference/datamodel.html#object.__new__) method, which is a static method of the class not of the instance of the class.\n",
    "\n",
    "Define the following methods:\n",
    "\n",
    "* `invert_rgb`\n",
    "    * See docstring for method behavior to implement\n",
    "* `grayscale`\n",
    "    * See docstring for method behavior to implement\n",
    "\n",
    "* ``__str__``\n",
    "    * the returned string should include the integer values as zero padded integers (e.g. `028`) for each color and the floating point value with 2 decimal (e.g. `0.27`) points for alpha\n",
    "* ``__repr__``\n",
    "    * The returned string should include the class name and at least the information in the `__str__` string. \n",
    "* ``__add__``\n",
    "    * When adding two `rgba` instances (e.g. `c1` and `c2`) to create a new `rgba` instance (e.g. `c3`), the color channels of `c3`  should be the sum of the two values mod 256. For example, $c3=(c1.r+c2.r)\\mod 256$.\n",
    "    * The alpha value should be the maximum of the two alpha values ($c3.\\text{alpha}=\\max(c1.\\text{alpha},c2.\\text{alpha})$)\n",
    "* ``__eq__``\n",
    "    * In comparing equality, ignore the alpha values\n",
    "* ``__abs__``\n",
    "    * The absolute value should be the root mean square of the color values ignoring the alpha value.\n"
   ]
  },
  {
   "cell_type": "code",
   "execution_count": 45,
   "metadata": {
    "collapsed": true,
    "nbgrader": {
     "grade": false,
     "grade_id": "cell-f88642675bef5a77",
     "locked": false,
     "schema_version": 1,
     "solution": true
    }
   },
   "outputs": [],
   "source": [
    "from collections import namedtuple\n",
    "import math\n",
    "rgbalpha = namedtuple(\"rgbalpha\",['r','g','b','alpha'])\n",
    "class rgba(rgbalpha):\n",
    "    def __new__(cls, *args, **kwargs):\n",
    "        return super().__new__(cls, validate_color(args[0]),\n",
    "                          validate_color(args[1]),\n",
    "                          validate_color(args[2]),\n",
    "                          validate_alpha(args[3]))\n",
    "    def __init__(self, *args, name=\"null\"):\n",
    "        self.name = name\n",
    "\n",
    "    @property\n",
    "    def name(self):\n",
    "        return self.__name\n",
    "    \n",
    "    @name.setter\n",
    "    def name(self, value):\n",
    "        self.__name = value.lower()\n",
    "    \n",
    "    def invert_rgb(self): \n",
    "        \"\"\"\n",
    "        this function inverts the RGB color by subtracting \n",
    "        all color values from 255 and returns a new rgba object with the \n",
    "        new color values.\n",
    "        \n",
    "        alpha is not modified\n",
    "        \n",
    "        name\n",
    "        \"\"\"\n",
    "        return rgba(255-self.r, 255-self.g, 255-self.b, self.alpha, name=self.name+\".inverted\")\n",
    " \n",
    "    def grayscale(self): \n",
    "\n",
    "        \"\"\"\n",
    "        this function converts RGB color to grayscale by using a \n",
    "        weight average formula: 0.299Red+0.587Green+0.114Blue\n",
    "        \"\"\"\n",
    "\n",
    "        tmp = 0.299*self.r+0.587*self.g + 0.114*self.b\n",
    "        return rgba(tmp, tmp, tmp, self.alpha, name=self.name+\".gray\")\n",
    "\n",
    "    def __str__(self):\n",
    "        return \"\"\"(%03d, %03d, %03d, %3.2f)\"\"\"%(self.r,\n",
    "                                                         self.g,\n",
    "                                                        self.b,\n",
    "                                                        self.alpha)\n",
    "    def __repr__(self):\n",
    "        return \"\"\"rgba instance:  %s (red=%d, green=%d, blue=%d; alpha=%f)\"\"\"\\\n",
    "                %(self.name, self.r,self.g,self.b,self.alpha)\n",
    "\n",
    "    def __add__(self,color):\n",
    "        return rgba((self.r+color.r)%256,\n",
    "                    (self.g+color.g)%256,\n",
    "                    (self.b+color.b)%256,\n",
    "                   max(self.alpha,color.alpha), name=self.name+\"_\"+color.name)\n",
    "\n",
    "    def __eq__(self,color):\n",
    "        return self.r == color.r and \\\n",
    "               self.g == color.g and \\\n",
    "               self.b == color.b\n",
    "        \n",
    "    def __abs__(self):\n",
    "        return math.sqrt(self.r*self.r+self.g*self.g+self.b*self.b)\n",
    "        "
   ]
  },
  {
   "cell_type": "markdown",
   "metadata": {},
   "source": [
    "## Tests for Problem 3"
   ]
  },
  {
   "cell_type": "code",
   "execution_count": 22,
   "metadata": {
    "collapsed": false,
    "nbgrader": {
     "grade": true,
     "grade_id": "cell-e32110b72c2df921",
     "locked": true,
     "points": 2,
     "schema_version": 1,
     "solution": false
    }
   },
   "outputs": [
    {
     "data": {
      "text/plain": [
       "True"
      ]
     },
     "execution_count": 22,
     "metadata": {},
     "output_type": "execute_result"
    }
   ],
   "source": [
    "c=rgba(100,32,47,0.9785)\n",
    "assert_true('032' in c.__str__())"
   ]
  },
  {
   "cell_type": "code",
   "execution_count": 28,
   "metadata": {
    "collapsed": true,
    "nbgrader": {
     "grade": true,
     "grade_id": "cell-2369dbaef892ab7f",
     "locked": true,
     "points": 3,
     "schema_version": 1,
     "solution": false
    }
   },
   "outputs": [],
   "source": [
    "c=rgba(100,32,47,0.9785)\n",
    "assert_true('0.9785' in c.__repr__())"
   ]
  },
  {
   "cell_type": "code",
   "execution_count": 27,
   "metadata": {
    "collapsed": true,
    "nbgrader": {
     "grade": true,
     "grade_id": "cell-451d146f57d41bec",
     "locked": true,
     "points": 5,
     "schema_version": 1,
     "solution": false
    }
   },
   "outputs": [],
   "source": [
    "c=rgba(100,32,47,0.9785)\n",
    "cg = c.grayscale()\n",
    "assert_equal(cg.r,54)\n",
    "assert_equal(cg.g,54)\n",
    "assert_equal(cg.b,54)"
   ]
  },
  {
   "cell_type": "code",
   "execution_count": 29,
   "metadata": {
    "collapsed": false,
    "nbgrader": {
     "grade": true,
     "grade_id": "cell-944110c1cf346841",
     "locked": true,
     "points": 2,
     "schema_version": 1,
     "solution": false
    }
   },
   "outputs": [
    {
     "data": {
      "text/plain": [
       "True"
      ]
     },
     "execution_count": 29,
     "metadata": {},
     "output_type": "execute_result"
    }
   ],
   "source": [
    "c=rgba(100,32,47,0.9785)\n",
    "assert_true(isinstance(c,tuple))"
   ]
  },
  {
   "cell_type": "code",
   "execution_count": 31,
   "metadata": {
    "collapsed": true,
    "nbgrader": {
     "grade": true,
     "grade_id": "cell-02b6b8b650c33e86",
     "locked": true,
     "points": 3,
     "schema_version": 1,
     "solution": false
    }
   },
   "outputs": [],
   "source": [
    "assert_true(isinstance(c,rgbalpha))"
   ]
  },
  {
   "cell_type": "code",
   "execution_count": 39,
   "metadata": {
    "collapsed": true,
    "nbgrader": {
     "grade": true,
     "grade_id": "cell-0759a552d24d6e5c",
     "locked": true,
     "points": 5,
     "schema_version": 1,
     "solution": false
    }
   },
   "outputs": [],
   "source": [
    "c1 = rgba(100,32,47,0.9785)\n",
    "c2 =rgba(255,0,0,0.1)\n",
    "c3 = c1+c2\n",
    "assert_equal(c3.r,99)\n",
    "assert_equal(c3.g,32)\n",
    "assert_equal(c3.alpha,0.9785)"
   ]
  },
  {
   "cell_type": "code",
   "execution_count": 42,
   "metadata": {
    "collapsed": true,
    "nbgrader": {
     "grade": true,
     "grade_id": "cell-8a78cdf49f641d25",
     "locked": true,
     "points": 3,
     "schema_version": 1,
     "solution": false
    }
   },
   "outputs": [],
   "source": [
    "c1 = rgba(100,32,47,0.9785)\n",
    "c2 =rgba(255,0,0,0.1)\n",
    "assert_false(c1==c2)"
   ]
  },
  {
   "cell_type": "code",
   "execution_count": 43,
   "metadata": {
    "collapsed": false,
    "nbgrader": {
     "grade": true,
     "grade_id": "cell-f04832eef7f5f612",
     "locked": true,
     "points": 2,
     "schema_version": 1,
     "solution": false
    }
   },
   "outputs": [
    {
     "data": {
      "text/plain": [
       "115.03477735015616"
      ]
     },
     "execution_count": 43,
     "metadata": {},
     "output_type": "execute_result"
    }
   ],
   "source": [
    "assert_true(c1==c1)\n"
   ]
  },
  {
   "cell_type": "code",
   "execution_count": null,
   "metadata": {
    "collapsed": true,
    "nbgrader": {
     "grade": true,
     "grade_id": "cell-55d9fff0ce3b772b",
     "locked": true,
     "points": 5,
     "schema_version": 1,
     "solution": false
    }
   },
   "outputs": [],
   "source": [
    "assert_almost_equal(abs(c1),115.03477735015616)"
   ]
  },
  {
   "cell_type": "code",
   "execution_count": null,
   "metadata": {
    "collapsed": true
   },
   "outputs": [],
   "source": []
  }
 ],
 "metadata": {
  "anaconda-cloud": {},
  "celltoolbar": "Create Assignment",
  "kernelspec": {
   "display_name": "Python [default]",
   "language": "python",
   "name": "python3"
  },
  "language_info": {
   "codemirror_mode": {
    "name": "ipython",
    "version": 3
   },
   "file_extension": ".py",
   "mimetype": "text/x-python",
   "name": "python",
   "nbconvert_exporter": "python",
   "pygments_lexer": "ipython3",
   "version": "3.5.2"
  }
 },
 "nbformat": 4,
 "nbformat_minor": 1
}
