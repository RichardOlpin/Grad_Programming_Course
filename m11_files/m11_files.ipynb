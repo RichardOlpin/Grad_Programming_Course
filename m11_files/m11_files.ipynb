{
 "cells": [
  {
   "cell_type": "markdown",
   "metadata": {
    "nbgrader": {
     "grade": false,
     "grade_id": "cell-bbe4ed171607bfb6",
     "locked": true,
     "schema_version": 1,
     "solution": false
    }
   },
   "source": [
    "# Files"
   ]
  },
  {
   "cell_type": "code",
   "execution_count": 4,
   "metadata": {
    "collapsed": true,
    "nbgrader": {
     "grade": false,
     "grade_id": "cell-665c75e67f9931bf",
     "locked": true,
     "schema_version": 1,
     "solution": false
    }
   },
   "outputs": [],
   "source": [
    "from nose.tools import assert_true, assert_false, \\\n",
    "    assert_almost_equal, assert_equal, assert_raises"
   ]
  },
  {
   "cell_type": "code",
   "execution_count": 5,
   "metadata": {
    "collapsed": true,
    "nbgrader": {
     "grade": false,
     "grade_id": "cell-68574cfa9dcf517e",
     "locked": true,
     "schema_version": 1,
     "solution": false
    }
   },
   "outputs": [],
   "source": [
    "import os\n",
    "import pickle\n",
    "import gzip"
   ]
  },
  {
   "cell_type": "markdown",
   "metadata": {
    "nbgrader": {
     "grade": false,
     "grade_id": "cell-e6f8a408d3971014",
     "locked": true,
     "schema_version": 1,
     "solution": false
    }
   },
   "source": [
    "**Problem 1. (20 Points):** Write a function `write_pickle` that saves an object (e.g. our dictionary of lab values) to a compressed pickle file (i.e. use gzip with pickle). Your function should take as a **positional argument** the object to be pickled and as **keyword arguments** the file to write to and a flag `write_over` that if `True` will write over an existing file and if `False` will raise a `FileExistsError`` if a file with that name exists. Test that you can both write and read again a test object (e.g. the parsed lab values from problem 1."
   ]
  },
  {
   "cell_type": "code",
   "execution_count": 6,
   "metadata": {
    "collapsed": true,
    "nbgrader": {
     "grade": false,
     "grade_id": "cell-806bad198ed62df5",
     "locked": false,
     "schema_version": 1,
     "solution": true
    }
   },
   "outputs": [],
   "source": [
    "import pickle, gzip\n",
    "\n",
    "\n",
    "def write_pickle(data, fname=\"temp.pickle\", write_over=False):\n",
    "\n",
    "    if os.path.exists(fname) and not write_over:\n",
    "        raise FileExistsError(\"%s exists but write_over is set to False\")\n",
    "    with gzip.open(fname, \"wb\") as f0:\n",
    "        pickle.dump(data, f0)  \n"
   ]
  },
  {
   "cell_type": "code",
   "execution_count": 7,
   "metadata": {
    "collapsed": true,
    "nbgrader": {
     "grade": true,
     "grade_id": "cell-8bd3a27f6ec2c7fb",
     "locked": true,
     "points": 10,
     "schema_version": 1,
     "solution": false
    }
   },
   "outputs": [],
   "source": [
    "if os.path.exists(\"temp.pickle\"):\n",
    "    os.remove(\"temp.pickle\")\n",
    "write_pickle(\"This is a test\")\n",
    "assert_true(os.path.exists(\"temp.pickle\"))\n",
    "assert_raises(FileExistsError, write_pickle, \"This is a test\", \n",
    "              write_over=False)\n",
    "assert_equal(write_pickle(\"This is a test\", write_over=True), None)\n",
    "os.remove(\"temp.pickle\")"
   ]
  },
  {
   "cell_type": "markdown",
   "metadata": {},
   "source": [
    "## Test for Problem 1"
   ]
  },
  {
   "cell_type": "code",
   "execution_count": 8,
   "metadata": {
    "collapsed": false,
    "nbgrader": {
     "grade": true,
     "grade_id": "cell-b609ed4e2edf310c",
     "locked": true,
     "points": 10,
     "schema_version": 1,
     "solution": false
    }
   },
   "outputs": [],
   "source": [
    "fname = \"test.pickle\"\n",
    "if os.path.exists(fname):\n",
    "    os.remove(fname)\n",
    "write_pickle(\"This is a test\", fname=fname)\n",
    "def verify(fname):\n",
    "    with gzip.open(fname, \"rb\") as f0:\n",
    "        return pickle.load(f0)\n",
    "assert_equal(verify(\"test.pickle\"), \"This is a test\")\n",
    "os.remove(\"test.pickle\")"
   ]
  },
  {
   "cell_type": "markdown",
   "metadata": {
    "nbgrader": {
     "grade": false,
     "grade_id": "cell-c3b23e244a5d9267",
     "locked": true,
     "schema_version": 1,
     "solution": false
    }
   },
   "source": [
    "**PROBLEM 2 (20 points)**:\n",
    "FASTQ is a common file format in bioinformatics. Here is the description of FASTAQ from [Wikipedia](http://en.wikipedia.org/wiki/FASTQ_format)\n",
    "\n",
    "A FASTQ file normally uses four lines per sequence.\n",
    "* Line 1 begins with a '@' character and is followed by a sequence identifier and an optional description (like a FASTA title line).\n",
    "* Line 2 is the raw sequence letters.\n",
    "* Line 3 begins with a '+' character and is optionally followed by the same sequence identifier (and any description) again.\n",
    "* Line 4 encodes the quality values for the sequence in Line 2, and must contain the same number of symbols as letters in the sequence.\n",
    "A FASTQ file containing a single sequence might look like this:\n",
    "\n",
    "Write a function `read_fastq` for reading and parsing a FASTQ file.\n",
    "Your class should\n",
    "\n",
    "1. Return a dictionary keyed on the sequence identifier with values a 3-tuple of the sequence string, comment/descriptor string, and quality string. \n",
    "    1. Use `strip` to remove any leading or trailing white spaces.\n",
    "1. Uses appropriate error checking to make sure the sequence is valid. For example, our only valid characters used in the sequence? Is the quality string the same length as the sequence string? Does the the third line start with a `\"+\"`?\n",
    "\n",
    "#### Hints\n",
    "\n",
    "1. Treat the file object as an iterator and use the [`next`](https://docs.python.org/3/library/functions.html#next) function.\n",
    "1. Use an infinite while loop. Break out of the loop when you get a `StopIteration` exception."
   ]
  },
  {
   "cell_type": "code",
   "execution_count": 11,
   "metadata": {
    "collapsed": true,
    "nbgrader": {
     "grade": false,
     "grade_id": "cell-ec4ffb57984661f2",
     "locked": false,
     "schema_version": 1,
     "solution": true
    }
   },
   "outputs": [],
   "source": [
    "def read_fastq(fname):\n",
    "    \"\"\"\n",
    "    Reads the content of a fastq file and returns the content in a dictionary.\n",
    "    \n",
    "    Arguments:\n",
    "        fname: A string containg a path to the fastq file to read\n",
    "    Returns:\n",
    "        A dictionary keyed by sequence identifer with values a \n",
    "        3-tuple of strings\n",
    "    \n",
    "    Raises:\n",
    "        ValueError if sequence string and quality string are of unequal length\n",
    "        ValueError if comment string is invalid\n",
    "    \n",
    "    \"\"\"\n",
    "    \n",
    "    valid = set(\"ACTGN\")\n",
    "    with open(fname) as f0:\n",
    "        seqs = {}\n",
    "        while True:\n",
    "            try:\n",
    "                line = next(f0)\n",
    "                if line[0] == '@':\n",
    "                    s2 = next(f0).strip()\n",
    "                    if not set(s2).issubset(valid):\n",
    "                        raise ValueError(\"Invalid sequence\")\n",
    "                    s3 = next(f0).strip()\n",
    "                    if s3[0] != '+':\n",
    "                        raise ValueError(\"Invalid third line of sequence\")\n",
    "                    s4 = next(f0).strip()\n",
    "                    if len(s4) != len(s2):\n",
    "                        raise ValueError(\n",
    "                            \"Sequence and Quality unequal lengths\")\n",
    "                    seqs[line.strip()] = (s2, \n",
    "                                          s3, \n",
    "                                          s4)\n",
    "            except StopIteration:\n",
    "                break\n",
    "        return seqs"
   ]
  },
  {
   "cell_type": "markdown",
   "metadata": {},
   "source": [
    "## Tests for Problem 2"
   ]
  },
  {
   "cell_type": "code",
   "execution_count": 12,
   "metadata": {
    "collapsed": false,
    "nbgrader": {
     "grade": false,
     "grade_id": "cell-31d7c716292ac0ee",
     "locked": true,
     "schema_version": 1,
     "solution": false
    }
   },
   "outputs": [],
   "source": [
    "seqs = read_fastq(\"ex_test.fastq\")"
   ]
  },
  {
   "cell_type": "code",
   "execution_count": 13,
   "metadata": {
    "collapsed": false,
    "nbgrader": {
     "grade": true,
     "grade_id": "cell-59be22772b966b95",
     "locked": true,
     "points": 5,
     "schema_version": 1,
     "solution": false
    }
   },
   "outputs": [],
   "source": [
    "assert_equal(len(seqs), 9)"
   ]
  },
  {
   "cell_type": "code",
   "execution_count": 14,
   "metadata": {
    "collapsed": true,
    "nbgrader": {
     "grade": true,
     "grade_id": "cell-2f4d753808c501d1",
     "locked": true,
     "points": 5,
     "schema_version": 1,
     "solution": false
    }
   },
   "outputs": [],
   "source": [
    "assert_true('@A80HNBABXX:4:1:1712:2224#0/1' in seqs)"
   ]
  },
  {
   "cell_type": "code",
   "execution_count": 15,
   "metadata": {
    "collapsed": false,
    "nbgrader": {
     "grade": true,
     "grade_id": "cell-59702cf3204c2687",
     "locked": true,
     "points": 5,
     "schema_version": 1,
     "solution": false
    }
   },
   "outputs": [
    {
     "data": {
      "text/plain": [
       "'^ffbffffffYddc^f`ff\\\\`caccddddd\\\\\\\\cccffffedcdda_c`ccb]RZ_YYY]_^`aab^^\\\\ccecc^d^b``L[TYQ[^_Z__^Y```cac``'"
      ]
     },
     "execution_count": 15,
     "metadata": {},
     "output_type": "execute_result"
    }
   ],
   "source": [
    "seqs[\"@A80HNBABXX:4:1:1697:2246#0/1\"][2]"
   ]
  },
  {
   "cell_type": "code",
   "execution_count": 16,
   "metadata": {
    "collapsed": true,
    "nbgrader": {
     "grade": true,
     "grade_id": "cell-7e95f2a3d064f51f",
     "locked": true,
     "points": 5,
     "schema_version": 1,
     "solution": false
    }
   },
   "outputs": [],
   "source": [
    "assert_equal(seqs[\"@A80HNBABXX:4:1:1697:2246#0/1\"][2], \n",
    "'^ffbffffffYddc^f`ff\\\\`caccddddd\\\\\\\\cccffffedcdda_c`ccb]RZ_YYY]_^`aab^^\\\\ccecc^d^b``L[TYQ[^_Z__^Y```cac``'\n",
    ")"
   ]
  }
 ],
 "metadata": {
  "celltoolbar": "Create Assignment",
  "kernelspec": {
   "display_name": "Python [default]",
   "language": "python",
   "name": "python3"
  },
  "language_info": {
   "codemirror_mode": {
    "name": "ipython",
    "version": 3
   },
   "file_extension": ".py",
   "mimetype": "text/x-python",
   "name": "python",
   "nbconvert_exporter": "python",
   "pygments_lexer": "ipython3",
   "version": "3.5.2"
  }
 },
 "nbformat": 4,
 "nbformat_minor": 1
}
