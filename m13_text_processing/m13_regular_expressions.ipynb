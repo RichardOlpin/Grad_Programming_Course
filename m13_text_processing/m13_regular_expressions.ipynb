{
 "cells": [
  {
   "cell_type": "markdown",
   "metadata": {
    "nbgrader": {
     "grade": false,
     "grade_id": "cell-3e3170e840d73afc",
     "locked": true,
     "schema_version": 1,
     "solution": false
    }
   },
   "source": [
    "# Regular Expressions\n"
   ]
  },
  {
   "cell_type": "code",
   "execution_count": 1,
   "metadata": {
    "collapsed": true,
    "nbgrader": {
     "grade": false,
     "grade_id": "cell-e1602db90d24115e",
     "locked": true,
     "schema_version": 1,
     "solution": false
    }
   },
   "outputs": [],
   "source": [
    "from nose.tools import assert_true, assert_false, \\\n",
    "    assert_almost_equal, assert_equal, assert_raises"
   ]
  },
  {
   "cell_type": "code",
   "execution_count": null,
   "metadata": {
    "collapsed": true
   },
   "outputs": [],
   "source": []
  },
  {
   "cell_type": "code",
   "execution_count": 2,
   "metadata": {
    "collapsed": false,
    "nbgrader": {
     "grade": false,
     "grade_id": "cell-f65949a4a47840a7",
     "locked": true,
     "schema_version": 1,
     "solution": false
    }
   },
   "outputs": [
    {
     "ename": "ImportError",
     "evalue": "No module named 'textblob'",
     "output_type": "error",
     "traceback": [
      "\u001b[0;31m---------------------------------------------------------------------------\u001b[0m",
      "\u001b[0;31mImportError\u001b[0m                               Traceback (most recent call last)",
      "\u001b[0;32m<ipython-input-2-b47862e771c1>\u001b[0m in \u001b[0;36m<module>\u001b[0;34m()\u001b[0m\n\u001b[1;32m      5\u001b[0m \u001b[1;32mimport\u001b[0m \u001b[0mre\u001b[0m\u001b[1;33m\u001b[0m\u001b[0m\n\u001b[1;32m      6\u001b[0m \u001b[1;32mimport\u001b[0m \u001b[0mpandas\u001b[0m \u001b[1;32mas\u001b[0m \u001b[0mpd\u001b[0m\u001b[1;33m\u001b[0m\u001b[0m\n\u001b[0;32m----> 7\u001b[0;31m \u001b[1;32mfrom\u001b[0m \u001b[0mtextblob\u001b[0m \u001b[1;32mimport\u001b[0m \u001b[0mTextBlob\u001b[0m\u001b[1;33m\u001b[0m\u001b[0m\n\u001b[0m",
      "\u001b[0;31mImportError\u001b[0m: No module named 'textblob'"
     ]
    }
   ],
   "source": [
    "\n",
    "import numpy as np\n",
    "import locale\n",
    "import os\n",
    "import re\n",
    "import pandas as pd\n",
    "from textblob import TextBlob"
   ]
  },
  {
   "cell_type": "code",
   "execution_count": null,
   "metadata": {
    "collapsed": false,
    "nbgrader": {
     "grade": false,
     "grade_id": "cell-a3dd3ae428af588d",
     "locked": true,
     "schema_version": 1,
     "solution": false
    }
   },
   "outputs": [],
   "source": [
    "DATADIR = os.path.join(\"..\",\"Resources\")\n",
    "os.path.exists(DATADIR)\n",
    "#DATADIR = \"PATH_TO_WHERE_YOU_KEEP_DATA\""
   ]
  },
  {
   "cell_type": "markdown",
   "metadata": {
    "nbgrader": {
     "grade": false,
     "grade_id": "cell-f4d940d895b05c52",
     "locked": true,
     "schema_version": 1,
     "solution": false
    }
   },
   "source": [
    "**Problem 1 (10 points).** Write a function (`currency2float`) that uses a regular expression to capture and return the **numeric value** of a currency string and its **units.** Note you need to use the **[locale](http://docs.python.org/3/library/locale.html)** module because of the potential of \",.\" characters in the strings. "
   ]
  },
  {
   "cell_type": "code",
   "execution_count": 3,
   "metadata": {
    "collapsed": false,
    "nbgrader": {
     "grade": false,
     "grade_id": "cell-d1cfba9013211c29",
     "locked": false,
     "schema_version": 1,
     "solution": true
    }
   },
   "outputs": [
    {
     "ename": "Error",
     "evalue": "unsupported locale setting",
     "output_type": "error",
     "traceback": [
      "\u001b[0;31m---------------------------------------------------------------------------\u001b[0m",
      "\u001b[0;31mError\u001b[0m                                     Traceback (most recent call last)",
      "\u001b[0;32m<ipython-input-3-7bd8863b78b7>\u001b[0m in \u001b[0;36m<module>\u001b[0;34m()\u001b[0m\n\u001b[0;32m----> 1\u001b[0;31m \u001b[0mlocale\u001b[0m\u001b[1;33m.\u001b[0m\u001b[0msetlocale\u001b[0m\u001b[1;33m(\u001b[0m\u001b[0mlocale\u001b[0m\u001b[1;33m.\u001b[0m\u001b[0mLC_ALL\u001b[0m\u001b[1;33m,\u001b[0m\u001b[1;34m'en_US'\u001b[0m\u001b[1;33m)\u001b[0m\u001b[1;33m\u001b[0m\u001b[0m\n\u001b[0m\u001b[1;32m      2\u001b[0m \u001b[0mreNum\u001b[0m \u001b[1;33m=\u001b[0m \u001b[0mre\u001b[0m\u001b[1;33m.\u001b[0m\u001b[0mcompile\u001b[0m\u001b[1;33m(\u001b[0m\u001b[1;34mr\"\"\"(?P<prefix>[\\$€£₤]{1,4})?(?P<number>[.,0-9]+)(?P<suffix>\\s+[a-zA-Z]+)?\"\"\"\u001b[0m\u001b[1;33m,\u001b[0m \u001b[0mre\u001b[0m\u001b[1;33m.\u001b[0m\u001b[0mU\u001b[0m\u001b[1;33m)\u001b[0m\u001b[1;33m\u001b[0m\u001b[0m\n\u001b[1;32m      3\u001b[0m \u001b[1;33m\u001b[0m\u001b[0m\n\u001b[1;32m      4\u001b[0m \u001b[1;32mdef\u001b[0m \u001b[0mcurrencyToFloat\u001b[0m\u001b[1;33m(\u001b[0m\u001b[0mx\u001b[0m\u001b[1;33m)\u001b[0m\u001b[1;33m:\u001b[0m\u001b[1;33m\u001b[0m\u001b[0m\n\u001b[1;32m      5\u001b[0m     \u001b[0mrslt\u001b[0m \u001b[1;33m=\u001b[0m \u001b[0mreNum\u001b[0m\u001b[1;33m.\u001b[0m\u001b[0msearch\u001b[0m\u001b[1;33m(\u001b[0m\u001b[0mx\u001b[0m\u001b[1;33m)\u001b[0m\u001b[1;33m\u001b[0m\u001b[0m\n",
      "\u001b[0;32mC:\\Users\\Richard Olpin\\Anaconda3\\lib\\locale.py\u001b[0m in \u001b[0;36msetlocale\u001b[0;34m(category, locale)\u001b[0m\n\u001b[1;32m    592\u001b[0m         \u001b[1;31m# convert to string\u001b[0m\u001b[1;33m\u001b[0m\u001b[1;33m\u001b[0m\u001b[0m\n\u001b[1;32m    593\u001b[0m         \u001b[0mlocale\u001b[0m \u001b[1;33m=\u001b[0m \u001b[0mnormalize\u001b[0m\u001b[1;33m(\u001b[0m\u001b[0m_build_localename\u001b[0m\u001b[1;33m(\u001b[0m\u001b[0mlocale\u001b[0m\u001b[1;33m)\u001b[0m\u001b[1;33m)\u001b[0m\u001b[1;33m\u001b[0m\u001b[0m\n\u001b[0;32m--> 594\u001b[0;31m     \u001b[1;32mreturn\u001b[0m \u001b[0m_setlocale\u001b[0m\u001b[1;33m(\u001b[0m\u001b[0mcategory\u001b[0m\u001b[1;33m,\u001b[0m \u001b[0mlocale\u001b[0m\u001b[1;33m)\u001b[0m\u001b[1;33m\u001b[0m\u001b[0m\n\u001b[0m\u001b[1;32m    595\u001b[0m \u001b[1;33m\u001b[0m\u001b[0m\n\u001b[1;32m    596\u001b[0m \u001b[1;32mdef\u001b[0m \u001b[0mresetlocale\u001b[0m\u001b[1;33m(\u001b[0m\u001b[0mcategory\u001b[0m\u001b[1;33m=\u001b[0m\u001b[0mLC_ALL\u001b[0m\u001b[1;33m)\u001b[0m\u001b[1;33m:\u001b[0m\u001b[1;33m\u001b[0m\u001b[0m\n",
      "\u001b[0;31mError\u001b[0m: unsupported locale setting"
     ]
    }
   ],
   "source": [
    "locale.setlocale(locale.LC_ALL,'en_US')\n",
    "reNum = re.compile(r\"\"\"(?P<prefix>[\\$€£₤]{1,4})?(?P<number>[.,0-9]+)(?P<suffix>\\s+[a-zA-Z]+)?\"\"\", re.U)\n",
    "\n",
    "def currencyToFloat(x):\n",
    "    rslt = reNum.search(x)\n",
    "    return locale.atof(rslt.group('number')),rslt.group('prefix')"
   ]
  },
  {
   "cell_type": "markdown",
   "metadata": {},
   "source": [
    "## Tests for Problem 1"
   ]
  },
  {
   "cell_type": "code",
   "execution_count": 5,
   "metadata": {
    "collapsed": true,
    "nbgrader": {
     "grade": true,
     "grade_id": "cell-f4468b06c2f255db",
     "locked": true,
     "points": 5,
     "schema_version": 1,
     "solution": false
    }
   },
   "outputs": [],
   "source": [
    "assert_equal(currencyToFloat(\"£19,469\"), (19469.0, '£'))"
   ]
  },
  {
   "cell_type": "code",
   "execution_count": 6,
   "metadata": {
    "collapsed": true,
    "nbgrader": {
     "grade": true,
     "grade_id": "cell-30ecb8e0eef0172f",
     "locked": true,
     "points": 5,
     "schema_version": 1,
     "solution": false
    }
   },
   "outputs": [],
   "source": [
    "assert_equal(currencyToFloat(\"$1,243,567.32\"), (1243567.32, '$'))"
   ]
  },
  {
   "cell_type": "markdown",
   "metadata": {
    "nbgrader": {
     "grade": false,
     "grade_id": "cell-1ea9b2ddf10bf452",
     "locked": true,
     "schema_version": 1,
     "solution": false
    }
   },
   "source": [
    "**Problem 2 (14 points):** Read the contents of income.txt into a Pandas data. \n",
    "\n",
    "Write a second function ``extract_income`` that takes as a positional argumenst a Pandas data frame and a column name from which to extract income. The function should return a new data frame that has columns consisting of the numeric values and units extracted by the ``currency2float`` function. The names of the columns in the new data frame should be derived from the input column (e.g. \"per capita income\" would create two columns named \"per capita income value\" and \"per capita income unit\"). Test this with income.txt and income_uk.txt located in the Resources directory.\n",
    "\n",
    "#### Hints\n",
    "\n",
    "1. ``SOME_PANDAS_SERIES.apply(pd.Series)`` will split the series (column) `SOME_PANDAS_SERIES` with tuple values into a data frame with each element of the tuples forming a column in the new dataframe with column names 0, 1, 2, etc. See [this](http://stackoverflow.com/questions/29550414/how-to-split-column-of-tuples-in-pandas-dataframe) Stackoverflow question/answer.\n",
    "1. Use the [``rename``](http://pandas.pydata.org/pandas-docs/stable/generated/pandas.DataFrame.rename.html) method to rename the columns of the generated DataFrame.\n",
    "1. Pay attention to the presence/absence of headers. If the file does not have a header, use ``rename`` to provide meaningful column names.\n",
    "1. Since strings are unicode, you can past a British pound symbol into your regular expression.\n",
    "1. Use the ``encoding`` keyword argument for ``read_table``.\n",
    "\n",
    "### Your solutions should look something like this:\n",
    "\n",
    "<table border=\"1\" class=\"dataframe\">\n",
    "  <thead>\n",
    "    <tr style=\"text-align: right;\">\n",
    "      <th></th>\n",
    "      <th>Income value</th>\n",
    "      <th>Income unit</th>\n",
    "    </tr>\n",
    "  </thead>\n",
    "  <tbody>\n",
    "    <tr>\n",
    "      <th>0</th>\n",
    "      <td>21109.0</td>\n",
    "      <td>£</td>\n",
    "    </tr>\n",
    "    <tr>\n",
    "      <th>1</th>\n",
    "      <td>19603.0</td>\n",
    "      <td>£</td>\n",
    "    </tr>\n",
    "    <tr>\n",
    "      <th>2</th>\n",
    "      <td>19469.0</td>\n",
    "      <td>£</td>\n",
    "    </tr>\n",
    "    <tr>\n",
    "      <th>3</th>\n",
    "      <td>19282.0</td>\n",
    "      <td>£</td>\n",
    "    </tr>\n",
    "    <tr>\n",
    "      <th>4</th>\n",
    "      <td>19236.0</td>\n",
    "      <td>£</td>\n",
    "    </tr>\n",
    "  </tbody>\n",
    "</table>"
   ]
  },
  {
   "cell_type": "code",
   "execution_count": 7,
   "metadata": {
    "collapsed": true,
    "nbgrader": {
     "grade": false,
     "grade_id": "cell-b90746ff7f679d8d",
     "locked": false,
     "schema_version": 1,
     "solution": true
    }
   },
   "outputs": [],
   "source": [
    "def extract_income(income, col):\n",
    "    tmp = income.apply(lambda x: \n",
    "             currencyToFloat(x[col]), \n",
    "             axis=1).apply(pd.Series).rename(columns=\n",
    "                                             {0:\"%s value\"%col,\n",
    "                                              1:\"%s unit\"%col})\n",
    "    #tmp = pd.concat([income, tmp], axis=1)\n",
    "    return tmp"
   ]
  },
  {
   "cell_type": "markdown",
   "metadata": {},
   "source": [
    "## Tests for Problem 2"
   ]
  },
  {
   "cell_type": "code",
   "execution_count": 8,
   "metadata": {
    "collapsed": true,
    "nbgrader": {
     "grade": true,
     "grade_id": "cell-49f00bf8ba7bc079",
     "locked": true,
     "points": 7,
     "schema_version": 1,
     "solution": false
    }
   },
   "outputs": [],
   "source": [
    "income = pd.read_table(\"./income.txt\")\n",
    "income_uk = pd.read_table(\"./income_uk.txt\",\n",
    "                         header = None,\n",
    "                         encoding='utf-8').rename(columns={0:\"Region\", \n",
    "                                                        1:\"Income\"})\n",
    "row = extract_income(income_uk, \"Income\").iloc[5]\n",
    "assert_almost_equal(row[\"Income value\"],18801)\n",
    "assert_equal(row[\"Income unit\"],\"£\")"
   ]
  },
  {
   "cell_type": "code",
   "execution_count": 9,
   "metadata": {
    "collapsed": true,
    "nbgrader": {
     "grade": true,
     "grade_id": "cell-1516e7762192ec80",
     "locked": true,
     "points": 7,
     "schema_version": 1,
     "solution": false
    }
   },
   "outputs": [],
   "source": [
    "income = pd.read_table(\"./income.txt\")\n",
    "income_uk = pd.read_table(\"./income_uk.txt\",\n",
    "                         header = None,\n",
    "                         encoding='utf-8').rename(columns={0:\"Region\", \n",
    "                                                        1:\"Income\"})\n",
    "row = extract_income(income, \"median household income\").iloc[5]\n",
    "assert_almost_equal(row[\"median household income value\"],63636)\n",
    "assert_equal(row[\"median household income unit\"],\"$\")"
   ]
  },
  {
   "cell_type": "markdown",
   "metadata": {
    "nbgrader": {
     "grade": false,
     "grade_id": "cell-5467d5521dd5107e",
     "locked": true,
     "schema_version": 1,
     "solution": false
    }
   },
   "source": [
    "**Problem 3 (20 Points): **\n",
    "\n",
    "Write a regular expression (`regname`) to match physician names in reports. You can assume that any name in the text is either preceded by \"Dr.\" or followed by \"MD\" (or \"M.D.\", \"D.O.\", \"DO\"). Use the following named groups:\n",
    "\n",
    "* \"prefix\"\n",
    "* \"fname\"\n",
    "* \"mname\"\n",
    "* \"lname\"\n",
    "* \"suffix\"\n",
    "\n",
    "Match at least the following name variations:\n",
    "    * Dr. Vivian Lee\n",
    "    * Dr. Vivian S Lee\n",
    "    * Vivian Lee, MD\n",
    "    * Vivian S Lee, MD\n",
    "    \n",
    "#### Hints\n",
    "\n",
    "1. Be careful in how you deal with white spaces. Regular expressions are a balancing act between sensitivity and specificity.\n",
    "1. What parts in the names are optional?"
   ]
  },
  {
   "cell_type": "code",
   "execution_count": 10,
   "metadata": {
    "collapsed": true,
    "nbgrader": {
     "grade": false,
     "grade_id": "cell-83c8487e69e8aa0f",
     "locked": false,
     "schema_version": 1,
     "solution": true
    }
   },
   "outputs": [],
   "source": [
    "regname = \\\n",
    "re.compile(r\"\"\"((?P<prefix>Dr\\.\\s)?(?P<fname>[A-Z][a-z\\.]*)\\s+((?P<mname>[A-Z][A-Za-z\\.]*)\\s+)?(?P<lname>[A-Z][A-Za-z]+)(?P<suffix>,\\s(MS|M\\.S\\.|M\\.D\\.|MD|PhD|Ph\\.D\\.|DO|D\\.O\\.|Sc\\.D\\.|ScD))?)\"\"\")"
   ]
  },
  {
   "cell_type": "markdown",
   "metadata": {},
   "source": [
    "## Tests for Problem 3"
   ]
  },
  {
   "cell_type": "code",
   "execution_count": 11,
   "metadata": {
    "collapsed": true,
    "nbgrader": {
     "grade": true,
     "grade_id": "cell-0507327b37760c94",
     "locked": true,
     "points": 5,
     "schema_version": 1,
     "solution": false
    }
   },
   "outputs": [],
   "source": [
    "tst = \\\n",
    "\"\"\"\n",
    "My physician is Dr. Barry Stults while my mentor is \n",
    "Dr. Matthew H Samore.\n",
    "Vivian Lee, MD hired me a few years after she was hired by\n",
    "A Lorris Betz, MD.\n",
    "David W. Pershing, Ph.D. is the university president and a lot of people hope that Ruth V Watkins, PhD is hired as the next\n",
    "univeersity president. When I was in Pittsburgh I worked with David Gur, ScD and Dr. Jules Henry Sumkin. My favorite\n",
    " philosopher is Alfred North Whitehead, Ph.D.\n",
    "\n",
    "\n",
    "\"\"\"\n",
    "matches = list(regname.finditer(tst))\n",
    "m = matches[0]\n",
    "assert_equal(m.group(\"prefix\").strip(), \"Dr.\")\n",
    "assert_equal(m.group(\"fname\").strip(), \"Barry\")\n",
    "assert_equal(m.group('mname'), None)\n",
    "assert_equal(m.group(\"lname\").strip(), \"Stults\")\n",
    "assert_equal(m.group(\"suffix\"), None)"
   ]
  },
  {
   "cell_type": "code",
   "execution_count": 12,
   "metadata": {
    "collapsed": true,
    "nbgrader": {
     "grade": true,
     "grade_id": "cell-d8bbe2af7d468141",
     "locked": true,
     "points": 5,
     "schema_version": 1,
     "solution": false
    }
   },
   "outputs": [],
   "source": [
    "tst = \\\n",
    "\"\"\"\n",
    "My physician is Dr. Barry Stults while my mentor is \n",
    "Dr. Matthew H Samore.\n",
    "Vivian Lee, MD hired me a few years after she was hired by\n",
    "A Lorris Betz, MD.\n",
    "David W. Pershing, Ph.D. is Dr. Betz's boss and a lot of people hope that Ruth V Watkins, PhD is hired as the next\n",
    "univeersity president. When I was in Pittsburgh I worked with David Gur, ScD and Dr. Jules Henry Sumkin. My favorite\n",
    " philosopher is Alfred North Whitehead, Ph.D.\n",
    "\n",
    "\n",
    "\"\"\"\n",
    "matches = list(regname.finditer(tst))\n",
    "m = matches[1]\n",
    "assert_equal(m.group(\"prefix\").strip(), \"Dr.\")\n",
    "assert_equal(m.group(\"fname\").strip(), \"Matthew\")\n",
    "assert_equal(m.group('mname').strip(), \"H\")\n",
    "assert_equal(m.group(\"lname\").strip(), \"Samore\")\n",
    "assert_equal(m.group(\"suffix\"), None)"
   ]
  },
  {
   "cell_type": "code",
   "execution_count": 13,
   "metadata": {
    "collapsed": true,
    "nbgrader": {
     "grade": true,
     "grade_id": "cell-0c0186c003f9457b",
     "locked": true,
     "points": 5,
     "schema_version": 1,
     "solution": false
    }
   },
   "outputs": [],
   "source": [
    "tst = \\\n",
    "\"\"\"\n",
    "My physician is Dr. Barry Stults while my mentor is \n",
    "Dr. Matthew H Samore.\n",
    "Vivian Lee, MD hired me a few years after she was hired by\n",
    "A Lorris Betz, MD.\n",
    "David W. Pershing, Ph.D. is the university president and a lot of people hope that Ruth V Watkins, PhD is hired as the next\n",
    "univeersity president. When I was in Pittsburgh I worked with David Gur, ScD and Dr. Jules Henry Sumkin. My favorite\n",
    " philosopher is Alfred North Whitehead, Ph.D.\n",
    "\n",
    "\n",
    "\"\"\"\n",
    "matches = list(regname.finditer(tst))\n",
    "m = matches[2]\n",
    "assert_equal(m.group(\"prefix\"), None)\n",
    "assert_equal(m.group(\"fname\").strip(), \"Vivian\")\n",
    "assert_equal(m.group('mname'), None)\n",
    "assert_equal(m.group(\"lname\").strip(), \"Lee\")\n",
    "assert_equal(m.group(\"suffix\").strip(), \", MD\")\n"
   ]
  },
  {
   "cell_type": "code",
   "execution_count": 14,
   "metadata": {
    "collapsed": true,
    "nbgrader": {
     "grade": true,
     "grade_id": "cell-332e33b10d967675",
     "locked": true,
     "points": 5,
     "schema_version": 1,
     "solution": false
    }
   },
   "outputs": [],
   "source": [
    "tst = \\\n",
    "\"\"\"\n",
    "My physician is Dr. Barry Stults while my mentor is \n",
    "Dr. Matthew H Samore.\n",
    "Vivian Lee, MD hired me a few years after she was hired by\n",
    "A Lorris Betz, MD.\n",
    "David W. Pershing, Ph.D. is the university president and a lot of people hope that Ruth V Watkins, PhD is hired as the next\n",
    "univeersity president. When I was in Pittsburgh I worked with David Gur, ScD and Dr. Jules Henry Sumkin. My favorite\n",
    " philosopher is Alfred North Whitehead, Ph.D.\n",
    "\n",
    "\n",
    "\"\"\"\n",
    "matches = list(regname.finditer(tst))\n",
    "m = matches[6]\n",
    "assert_equal(m.group(\"prefix\"), None)\n",
    "assert_equal(m.group(\"fname\").strip(), \"David\")\n",
    "assert_equal(m.group('mname'), None)\n",
    "assert_equal(m.group(\"lname\").strip(), \"Gur\")\n",
    "assert_equal(m.group(\"suffix\").strip(), \", ScD\")\n"
   ]
  },
  {
   "cell_type": "markdown",
   "metadata": {
    "nbgrader": {
     "grade": false,
     "grade_id": "cell-b4e72856fc41ecb0",
     "locked": true,
     "schema_version": 1,
     "solution": false
    }
   },
   "source": [
    "**Problem 4 (24 points):**\n",
    "\n",
    "* Write a regular expression to match dates in the following form:\n",
    "    * 2011-03-13\n",
    "    \n",
    "\n",
    "* Write a second regular expression to match dates in the following formats:\n",
    "    * 01/28/1947\n",
    "    * 03/17/75\n",
    "    \n",
    "\n",
    "* Write a third regular expression to match dates in the following formats.\n",
    "    * January 18, 2015\n",
    "    * Jan 1931\n",
    "    * Jan 8, 47\n",
    "    \n",
    "\n",
    "Put all the regular expressions in a list named `redates`. "
   ]
  },
  {
   "cell_type": "code",
   "execution_count": 20,
   "metadata": {
    "collapsed": true,
    "nbgrader": {
     "grade": false,
     "grade_id": "cell-cad09841faf0af9c",
     "locked": false,
     "schema_version": 1,
     "solution": true
    }
   },
   "outputs": [],
   "source": [
    "import re\n",
    "\n",
    "redates = None\n",
    "\n",
    "month_strings = \"\"\"January|JAN|February|FEB|March|MAR|April|APR|May|May|June|JUN|July|JUL|August|AUG|September|SEP|October|OCT|November|NOV|December|DEC\"\"\"\n",
    "\n",
    "date_regexs = [\n",
    "\"\"\"(?P<year>[0-9]{4,4})-(?P<month>[0-9]{2,2})-(?P<day>[0-9]{2,2})\"\"\",\n",
    "\"\"\"(?P<month>[0-9]{2,2})/(?P<day>[0-9]{2,2})/(?P<year>[0-9]{2,4})\"\"\",\n",
    "\"\"\"(?P<month>%s)(?P<day> [0-9]{1,2},)? (?P<year>[0-9]{2,4})\"\"\"%month_strings]\n",
    "\n",
    "redates = [re.compile(r, re.I) for r in date_regexs]\n"
   ]
  },
  {
   "cell_type": "markdown",
   "metadata": {},
   "source": [
    "## Tests for Problem 4"
   ]
  },
  {
   "cell_type": "code",
   "execution_count": 16,
   "metadata": {
    "collapsed": true,
    "nbgrader": {
     "grade": true,
     "grade_id": "cell-820e993278bb5bc5",
     "locked": true,
     "points": 6,
     "schema_version": 1,
     "solution": false
    }
   },
   "outputs": [],
   "source": [
    "tst = \\\n",
    "\"\"\"\n",
    "    * 2011-03-13\n",
    "    * 01/08/1947\n",
    "    * 03/01/75\n",
    "    * January 18, 2015\n",
    "    * Jan 1931\n",
    "    * Jan 8, 47\n",
    "\"\"\"\n",
    "matches = [m for r in redates for m in list(r.finditer(tst)) ]\n",
    "m = matches[0]\n",
    "assert_equal(m.group(\"year\"), \"2011\")\n",
    "assert_equal(m.group(\"month\"), \"03\")\n",
    "assert_equal(m.group(\"day\"), \"13\")"
   ]
  },
  {
   "cell_type": "code",
   "execution_count": 17,
   "metadata": {
    "collapsed": true,
    "nbgrader": {
     "grade": true,
     "grade_id": "cell-19c1e4fc1dc15b33",
     "locked": true,
     "points": 6,
     "schema_version": 1,
     "solution": false
    }
   },
   "outputs": [],
   "source": [
    "tst = \\\n",
    "\"\"\"\n",
    "    * 2011-03-13\n",
    "    * 01/08/1947\n",
    "    * 03/01/75\n",
    "    * January 18, 2015\n",
    "    * Jan 1931\n",
    "    * Jan 8, 47\n",
    "\"\"\"\n",
    "matches = [m for r in redates for m in list(r.finditer(tst)) ]\n",
    "m = matches[1]\n",
    "assert_equal(m.group(\"year\"), \"1947\")\n",
    "assert_equal(m.group(\"month\"), \"01\")\n",
    "assert_equal(m.group(\"day\"), \"08\")"
   ]
  },
  {
   "cell_type": "code",
   "execution_count": 18,
   "metadata": {
    "collapsed": true,
    "nbgrader": {
     "grade": true,
     "grade_id": "cell-a654eac9a9da8ccf",
     "locked": true,
     "points": 6,
     "schema_version": 1,
     "solution": false
    }
   },
   "outputs": [],
   "source": [
    "tst = \\\n",
    "\"\"\"\n",
    "    * 2011-03-13\n",
    "    * 01/08/1947\n",
    "    * 03/01/75\n",
    "    * January 18, 2015\n",
    "    * Jan 1931\n",
    "    * Jan 8, 47\n",
    "\"\"\"\n",
    "matches = [m for r in redates for m in list(r.finditer(tst)) ]\n",
    "m = matches[3]\n",
    "assert_equal(m.group(\"year\"), \"2015\")\n",
    "assert_equal(m.group(\"month\"), \"January\")\n",
    "assert_equal(m.group(\"day\").strip(), \"18,\")"
   ]
  },
  {
   "cell_type": "code",
   "execution_count": 19,
   "metadata": {
    "collapsed": true,
    "nbgrader": {
     "grade": true,
     "grade_id": "cell-a2cbe9c2863ecb6b",
     "locked": true,
     "points": 6,
     "schema_version": 1,
     "solution": false
    }
   },
   "outputs": [],
   "source": [
    "tst = \\\n",
    "\"\"\"\n",
    "    * 2011-03-13\n",
    "    * 01/08/1947\n",
    "    * 03/01/75\n",
    "    * January 18, 2015\n",
    "    * Jan 1931\n",
    "    * Jan 8, 47\n",
    "\"\"\"\n",
    "matches = [m for r in redates for m in list(r.finditer(tst)) ]\n",
    "m = matches[4]\n",
    "assert_equal(m.group(\"year\"), \"1931\")\n",
    "assert_equal(m.group(\"month\"), \"Jan\")\n",
    "assert_equal(m.group(\"day\"), None)"
   ]
  }
 ],
 "metadata": {
  "anaconda-cloud": {},
  "celltoolbar": "Create Assignment",
  "kernelspec": {
   "display_name": "Python [default]",
   "language": "python",
   "name": "python3"
  },
  "language_info": {
   "codemirror_mode": {
    "name": "ipython",
    "version": 3
   },
   "file_extension": ".py",
   "mimetype": "text/x-python",
   "name": "python",
   "nbconvert_exporter": "python",
   "pygments_lexer": "ipython3",
   "version": "3.5.2"
  }
 },
 "nbformat": 4,
 "nbformat_minor": 1
}
