{
 "cells": [
  {
   "cell_type": "markdown",
   "metadata": {
    "nbgrader": {
     "grade": false,
     "grade_id": "cell-8d8af265a76185ee",
     "locked": true,
     "schema_version": 1,
     "solution": false
    }
   },
   "source": [
    "# M14-Linear Algebra and Text Processing\n"
   ]
  },
  {
   "cell_type": "code",
   "execution_count": 268,
   "metadata": {
    "collapsed": true,
    "nbgrader": {
     "grade": false,
     "grade_id": "cell-419ac0d7d0356b28",
     "locked": true,
     "schema_version": 1,
     "solution": false
    }
   },
   "outputs": [],
   "source": [
    "from nose.tools import assert_almost_equal, assert_true, assert_equal, assert_raises\n",
    "from numbers import Number"
   ]
  },
  {
   "cell_type": "code",
   "execution_count": 269,
   "metadata": {
    "collapsed": true,
    "nbgrader": {
     "grade": false,
     "grade_id": "cell-87c89057dabd92d1",
     "locked": true,
     "schema_version": 1,
     "solution": false
    }
   },
   "outputs": [],
   "source": [
    "\n",
    "import numpy as np\n",
    "import locale\n",
    "import os\n",
    "import re\n",
    "import pandas as pd\n",
    "from textblob import TextBlob"
   ]
  },
  {
   "cell_type": "markdown",
   "metadata": {
    "nbgrader": {
     "grade": false,
     "grade_id": "cell-8129afdcbbc29f07",
     "locked": true,
     "schema_version": 1,
     "solution": false
    }
   },
   "source": [
    "## **Problem 1 (30 points).** Compute the Euclidean norm for each of the following vectors\n",
    "$$v_1= \\begin{bmatrix}5\\\\-1\\\\1\\\\0\\\\-5\\end{bmatrix}$$"
   ]
  },
  {
   "cell_type": "code",
   "execution_count": 270,
   "metadata": {
    "collapsed": false,
    "nbgrader": {
     "grade": false,
     "grade_id": "cell-a6478b7ec3a92650",
     "locked": false,
     "schema_version": 1,
     "solution": true
    }
   },
   "outputs": [
    {
     "data": {
      "text/plain": [
       "7.2111025509279782"
      ]
     },
     "execution_count": 270,
     "metadata": {},
     "output_type": "execute_result"
    }
   ],
   "source": [
    "from numpy.linalg import norm\n",
    "import math\n",
    "v1a = np.array([5,-1,1,0,-5])\n",
    "norm_v1 = norm(v1a)\n",
    "norm_v1"
   ]
  },
  {
   "cell_type": "code",
   "execution_count": 271,
   "metadata": {
    "collapsed": true,
    "nbgrader": {
     "grade": true,
     "grade_id": "cell-ad2a0780d41f1604",
     "locked": true,
     "points": 5,
     "schema_version": 1,
     "solution": false
    }
   },
   "outputs": [],
   "source": [
    "assert_almost_equal(norm_v1, 7.2111025509279782)"
   ]
  },
  {
   "cell_type": "markdown",
   "metadata": {
    "nbgrader": {
     "grade": false,
     "grade_id": "cell-21c450fbde81fef5",
     "locked": true,
     "schema_version": 1,
     "solution": false
    }
   },
   "source": [
    "$$v_2= \\begin{bmatrix}2\\\\ 3\\\\ 9\\\\ 4\\end{bmatrix}$$"
   ]
  },
  {
   "cell_type": "code",
   "execution_count": 272,
   "metadata": {
    "collapsed": false,
    "nbgrader": {
     "grade": false,
     "grade_id": "cell-9ff294fdc8569f5f",
     "locked": false,
     "schema_version": 1,
     "solution": true
    }
   },
   "outputs": [
    {
     "data": {
      "text/plain": [
       "10.488088481701515"
      ]
     },
     "execution_count": 272,
     "metadata": {},
     "output_type": "execute_result"
    }
   ],
   "source": [
    "from numpy.linalg import norm\n",
    "import math\n",
    "v2a = np.array([2, 3, 9, 4])\n",
    "norm_v2 = norm(v2a)\n",
    "norm_v2"
   ]
  },
  {
   "cell_type": "code",
   "execution_count": 273,
   "metadata": {
    "collapsed": true,
    "nbgrader": {
     "grade": true,
     "grade_id": "cell-434d1ea8b5b3b611",
     "locked": true,
     "points": 5,
     "schema_version": 1,
     "solution": false
    }
   },
   "outputs": [],
   "source": [
    "assert_almost_equal(norm_v2, 10.488088481701515)"
   ]
  },
  {
   "cell_type": "markdown",
   "metadata": {
    "nbgrader": {
     "grade": false,
     "grade_id": "cell-8964bee7f0cfd2d9",
     "locked": true,
     "schema_version": 1,
     "solution": false
    }
   },
   "source": [
    "$$v_3=\\begin{bmatrix}-2, -3, -7, -5\\end{bmatrix}^T$$"
   ]
  },
  {
   "cell_type": "code",
   "execution_count": 274,
   "metadata": {
    "collapsed": false,
    "nbgrader": {
     "grade": false,
     "grade_id": "cell-cd0f275d78bbb4e8",
     "locked": false,
     "schema_version": 1,
     "solution": true
    }
   },
   "outputs": [
    {
     "data": {
      "text/plain": [
       "9.3273790530888157"
      ]
     },
     "execution_count": 274,
     "metadata": {},
     "output_type": "execute_result"
    }
   ],
   "source": [
    "from numpy.linalg import norm\n",
    "import math\n",
    "v3a = np.array([-2, -3, -7, -5])\n",
    "norm_v3 = norm(v3a)\n",
    "norm_v3\n"
   ]
  },
  {
   "cell_type": "code",
   "execution_count": 275,
   "metadata": {
    "collapsed": true,
    "nbgrader": {
     "grade": true,
     "grade_id": "cell-d497c7df9689ab25",
     "locked": true,
     "points": 5,
     "schema_version": 1,
     "solution": false
    }
   },
   "outputs": [],
   "source": [
    "assert_almost_equal(norm_v3, 9.3273790530888157)"
   ]
  },
  {
   "cell_type": "markdown",
   "metadata": {
    "nbgrader": {
     "grade": false,
     "grade_id": "cell-0832692d72312f50",
     "locked": true,
     "schema_version": 1,
     "solution": false
    }
   },
   "source": [
    "$$v_4=\\begin{bmatrix}-10,   6,   8,   0,  -8,   7\\end{bmatrix}^T$$"
   ]
  },
  {
   "cell_type": "code",
   "execution_count": 276,
   "metadata": {
    "collapsed": false,
    "nbgrader": {
     "grade": false,
     "grade_id": "cell-bfa8dab17de5edd2",
     "locked": false,
     "schema_version": 1,
     "solution": true
    }
   },
   "outputs": [
    {
     "data": {
      "text/plain": [
       "17.691806012954132"
      ]
     },
     "execution_count": 276,
     "metadata": {},
     "output_type": "execute_result"
    }
   ],
   "source": [
    "from numpy.linalg import norm\n",
    "import math\n",
    "v4a = np.array([-10,   6,   8,   0,  -8,   7])\n",
    "norm_v4 = norm(v4a)\n",
    "norm_v4"
   ]
  },
  {
   "cell_type": "code",
   "execution_count": 277,
   "metadata": {
    "collapsed": true,
    "nbgrader": {
     "grade": true,
     "grade_id": "cell-5c75bf7b9ff1c3a6",
     "locked": true,
     "points": 5,
     "schema_version": 1,
     "solution": false
    }
   },
   "outputs": [],
   "source": [
    "assert_almost_equal(norm_v4, 17.691806012954132)"
   ]
  },
  {
   "cell_type": "markdown",
   "metadata": {
    "nbgrader": {
     "grade": false,
     "grade_id": "cell-04f7ddfd91e85d71",
     "locked": true,
     "schema_version": 1,
     "solution": false
    }
   },
   "source": [
    "$$v_5=\\begin{bmatrix}6,  -5,  -7, -10,  -6,  -2,  -2\\end{bmatrix}^T$$"
   ]
  },
  {
   "cell_type": "code",
   "execution_count": 278,
   "metadata": {
    "collapsed": false,
    "nbgrader": {
     "grade": false,
     "grade_id": "cell-3dba6ad4d4c10d98",
     "locked": false,
     "schema_version": 1,
     "solution": true
    }
   },
   "outputs": [
    {
     "data": {
      "text/plain": [
       "15.937377450509228"
      ]
     },
     "execution_count": 278,
     "metadata": {},
     "output_type": "execute_result"
    }
   ],
   "source": [
    "from numpy.linalg import norm\n",
    "import math\n",
    "v5a = np.array([6,  -5,  -7, -10,  -6,  -2,  -2])\n",
    "norm_v5 = norm(v5a)\n",
    "norm_v5"
   ]
  },
  {
   "cell_type": "code",
   "execution_count": 279,
   "metadata": {
    "collapsed": true,
    "nbgrader": {
     "grade": true,
     "grade_id": "cell-76ce9e33ddc2be7d",
     "locked": true,
     "points": 5,
     "schema_version": 1,
     "solution": false
    }
   },
   "outputs": [],
   "source": [
    "assert_almost_equal(norm_v5, 15.937377450509228)"
   ]
  },
  {
   "cell_type": "markdown",
   "metadata": {
    "nbgrader": {
     "grade": false,
     "grade_id": "cell-2ba53c905cfb70ec",
     "locked": true,
     "schema_version": 1,
     "solution": false
    }
   },
   "source": [
    "$$v_6= \\begin{bmatrix}4\\\\  2\\\\ -8\\end{bmatrix}$$"
   ]
  },
  {
   "cell_type": "code",
   "execution_count": 280,
   "metadata": {
    "collapsed": false,
    "nbgrader": {
     "grade": false,
     "grade_id": "cell-d64b453ea8f9a487",
     "locked": false,
     "schema_version": 1,
     "solution": true
    }
   },
   "outputs": [
    {
     "data": {
      "text/plain": [
       "9.1651513899116797"
      ]
     },
     "execution_count": 280,
     "metadata": {},
     "output_type": "execute_result"
    }
   ],
   "source": [
    "from numpy.linalg import norm\n",
    "import math\n",
    "v6a = np.array([4, 2, -8])\n",
    "norm_v6 = norm(v6a)\n",
    "norm_v6"
   ]
  },
  {
   "cell_type": "code",
   "execution_count": 281,
   "metadata": {
    "collapsed": true,
    "nbgrader": {
     "grade": true,
     "grade_id": "cell-6f697996025dbafb",
     "locked": true,
     "points": 5,
     "schema_version": 1,
     "solution": false
    }
   },
   "outputs": [],
   "source": [
    "assert_almost_equal(norm_v6, 9.1651513899116797)"
   ]
  },
  {
   "cell_type": "markdown",
   "metadata": {
    "nbgrader": {
     "grade": false,
     "grade_id": "cell-b541fd216d545d8c",
     "locked": true,
     "schema_version": 1,
     "solution": false
    }
   },
   "source": [
    "## Problem #2 (10 points)\n",
    "\n",
    "One of the limitations of word vectors as we have pictured them is [sparsity](https://en.wikipedia.org/wiki/Sparse_array): while our vocabulary is large (tens or hundreds of thousands of words), a typical document (e.g. radiology report) only has tens or hundreds of unique words. Write a class (`sparsev`) that inherits from a `defaultdict` to represent a \"sparse\" vector. The keys would be the indicies to a vector and the values would be the word counts (how many times that word occurred in the document). The class should have an attribute `self.__dim` that indicates the dimension of the vector space (e.g. the dimension of the vocabulary). The class should have a property `dim` that returns the value in `__dim` the instance of `sparsev` represents. You should define the following methods for the class:\n",
    "\n",
    "1. `norm`: Accepts as an argument a number `p` (default value=2) and computes the [p-norm](https://en.wikipedia.org/wiki/Norm_(mathematics)#p-norm) of the vector.\n",
    "    1. If `p` is not a number, raise a `ValueError`.\n",
    "    1. If $p \\le 0$, raise a `ValueError`.\n",
    "1. `cosine_sim`: Accepts as an argument an instance of a `sparsev`.\n",
    "    1. If the two `sparsev` instances do not have the same `dim` raise a ValueError\n",
    "    1. If you get a `ZeroDivisionError`, return `np.nan`\n",
    "    1. Note that the range of `arccos` is -1 to 1. Because of floating point arithmetic issues, you may have arguments that should be equal to 1 but are slightly larger. This will result in `arccos` returning a `np.nan`. In these cases, return a 0 (zero).\n",
    "1. a `__str__` method that shows the dimension of the vector as well as the elements (key/value pairs)."
   ]
  },
  {
   "cell_type": "code",
   "execution_count": 282,
   "metadata": {
    "collapsed": true,
    "nbgrader": {
     "grade": false,
     "grade_id": "cell-f1fea9da269ff9c8",
     "locked": false,
     "schema_version": 1,
     "solution": true
    }
   },
   "outputs": [],
   "source": [
    "from collections import defaultdict\n",
    "class sparsev(defaultdict):\n",
    "    def __init__(self, *args, dim=1, **kwargs):\n",
    "        self.__dim = dim\n",
    "        super(sparsev, self).__init__(*args, **kwargs)\n",
    "\n",
    "        \n",
    "        \n",
    "    @property\n",
    "    def dim(self):\n",
    "        return self.__dim\n",
    "    def norm(self, p=2):\n",
    "        if not isinstance(p, Number):\n",
    "            raise TypeError(\"p must be a number\")\n",
    "        if p < 0:\n",
    "            raise ValueError(\"p must be greater than zero\")\n",
    "        if p == np.inf:\n",
    "            return max([math.abs(vv) for vv in self.values()])\n",
    "        else:\n",
    "            return math.pow(np.sum([math.pow(vv,p) for vv in self.values()]),1/p)\n",
    "    def inner(self, v2):\n",
    "        if self.dim != v2.dim:\n",
    "            raise ValueError(\"%d !=%d: the sparse vectors must have the same dimension\"%(self.dim, v2.dim))\n",
    "        keys = set(self.keys()).intersection(v2.keys())\n",
    "        return np.sum([self[k]*v2[k] for k in keys])\n",
    "    def cosine_sim(self, v2):\n",
    "        try:\n",
    "            v = np.arccos(self.inner(v2)/(self.norm()*v2.norm()))\n",
    "            if np.isnan(v):\n",
    "                return 0\n",
    "            else:\n",
    "                return v\n",
    "        except ZeroDivisionError:\n",
    "            return np.nan\n",
    "    def __str__(self):\n",
    "        return \"(dim=%d) %s\"%(self.dim, super(sparsev, self).__str__())\n"
   ]
  },
  {
   "cell_type": "code",
   "execution_count": 283,
   "metadata": {
    "collapsed": true,
    "nbgrader": {
     "grade": true,
     "grade_id": "cell-85cf56d46b804354",
     "locked": true,
     "points": 2,
     "schema_version": 1,
     "solution": false
    }
   },
   "outputs": [],
   "source": [
    "tmp1 = sparsev(int, dim=5)\n",
    "tmp2 = sparsev(int, dim=3)\n",
    "assert_raises(ValueError, tmp1.inner, tmp2)"
   ]
  },
  {
   "cell_type": "code",
   "execution_count": 284,
   "metadata": {
    "collapsed": true,
    "nbgrader": {
     "grade": true,
     "grade_id": "cell-2cf3c3a9702cffd6",
     "locked": true,
     "points": 2,
     "schema_version": 1,
     "solution": false
    }
   },
   "outputs": [],
   "source": [
    "tmp1 = sparsev(int, dim=10)\n",
    "tmp2 = sparsev(int, dim=10)\n",
    "tmp1[\"Brian\"] = 3\n",
    "tmp1[\"Wendy\"] = 4\n",
    "tmp2[\"Argos\"] = 9\n",
    "tmp2[\"Helios\"] = 2\n",
    "tmp1.inner(tmp2)\n",
    "assert_almost_equal(tmp1.inner(tmp2), 0)"
   ]
  },
  {
   "cell_type": "code",
   "execution_count": 285,
   "metadata": {
    "collapsed": true,
    "nbgrader": {
     "grade": true,
     "grade_id": "cell-b2b379dea7ae8b65",
     "locked": true,
     "points": 2,
     "schema_version": 1,
     "solution": false
    }
   },
   "outputs": [],
   "source": [
    "tmp1 = sparsev(int, dim=10)\n",
    "tmp2 = sparsev(int, dim=10)\n",
    "tmp1[\"Brian\"] = 3\n",
    "tmp1[\"Wendy\"] = 4\n",
    "tmp2[\"Argos\"] = 9\n",
    "tmp2[\"Brian\"] = 2\n",
    "tmp1.inner(tmp2)\n",
    "assert_almost_equal(tmp1.inner(tmp2), 6)\n"
   ]
  },
  {
   "cell_type": "code",
   "execution_count": 286,
   "metadata": {
    "collapsed": true,
    "nbgrader": {
     "grade": true,
     "grade_id": "cell-0e7ee13238dd6021",
     "locked": true,
     "points": 2,
     "schema_version": 1,
     "solution": false
    }
   },
   "outputs": [],
   "source": [
    "tmp1 = sparsev(int, dim=5)\n",
    "tmp2 = sparsev(int, dim=3)\n",
    "assert_true(\"5\" in tmp1.__str__())"
   ]
  },
  {
   "cell_type": "code",
   "execution_count": 287,
   "metadata": {
    "collapsed": true,
    "nbgrader": {
     "grade": true,
     "grade_id": "cell-dfc8f135d643db11",
     "locked": true,
     "points": 2,
     "schema_version": 1,
     "solution": false
    }
   },
   "outputs": [],
   "source": [
    "tmp1 = sparsev(int, dim=5)\n",
    "tmp2 = sparsev(int, dim=3)\n",
    "assert_true(\"3\" in tmp2.__str__())"
   ]
  },
  {
   "cell_type": "markdown",
   "metadata": {
    "nbgrader": {
     "grade": false,
     "grade_id": "cell-3bb64a8c40f7f0c4",
     "locked": true,
     "schema_version": 1,
     "solution": false
    }
   },
   "source": [
    "## Test on MIMIC2 radiology reports"
   ]
  },
  {
   "cell_type": "code",
   "execution_count": 288,
   "metadata": {
    "collapsed": true,
    "nbgrader": {
     "grade": false,
     "grade_id": "cell-67444da88453ad4f",
     "locked": true,
     "schema_version": 1,
     "solution": false
    }
   },
   "outputs": [],
   "source": [
    "import pymysql\n",
    "import pandas as pd\n",
    "import getpass\n",
    "from textblob import TextBlob"
   ]
  },
  {
   "cell_type": "code",
   "execution_count": 289,
   "metadata": {
    "collapsed": true,
    "nbgrader": {
     "grade": false,
     "grade_id": "cell-44facc76cc3c2b94",
     "locked": true,
     "schema_version": 1,
     "solution": false
    }
   },
   "outputs": [],
   "source": [
    "conn = pymysql.connect(host=\"mysql\",\n",
    "                       port=3306,user=\"jovyan\",\n",
    "                       passwd=\"jovyan\",db='mimic2')\n",
    "cursor = conn.cursor()"
   ]
  },
  {
   "cell_type": "markdown",
   "metadata": {
    "nbgrader": {
     "grade": false,
     "grade_id": "cell-ae10cb62a78ae00c",
     "locked": true,
     "schema_version": 1,
     "solution": false
    }
   },
   "source": [
    "### Get some documents. Limit the query to keep corpus small for debugging"
   ]
  },
  {
   "cell_type": "code",
   "execution_count": 290,
   "metadata": {
    "collapsed": false,
    "nbgrader": {
     "grade": false,
     "grade_id": "cell-9598f115436d3f2e",
     "locked": true,
     "schema_version": 1,
     "solution": false
    }
   },
   "outputs": [
    {
     "data": {
      "text/html": [
       "<div>\n",
       "<table border=\"1\" class=\"dataframe\">\n",
       "  <thead>\n",
       "    <tr style=\"text-align: right;\">\n",
       "      <th></th>\n",
       "      <th>subject_id</th>\n",
       "      <th>hadm_id</th>\n",
       "      <th>text</th>\n",
       "    </tr>\n",
       "  </thead>\n",
       "  <tbody>\n",
       "    <tr>\n",
       "      <th>0</th>\n",
       "      <td>56</td>\n",
       "      <td>28766.0</td>\n",
       "      <td>\\n\\n\\n     DATE: [**2644-1-17**] 10:53 AM\\n   ...</td>\n",
       "    </tr>\n",
       "    <tr>\n",
       "      <th>1</th>\n",
       "      <td>56</td>\n",
       "      <td>28766.0</td>\n",
       "      <td>\\n\\n\\n     DATE: [**2644-1-17**] 10:43 AM\\n   ...</td>\n",
       "    </tr>\n",
       "    <tr>\n",
       "      <th>2</th>\n",
       "      <td>56</td>\n",
       "      <td>28766.0</td>\n",
       "      <td>\\n\\n\\n     DATE: [**2644-1-17**] 6:37 AM\\n    ...</td>\n",
       "    </tr>\n",
       "    <tr>\n",
       "      <th>3</th>\n",
       "      <td>56</td>\n",
       "      <td>28766.0</td>\n",
       "      <td>\\n\\n\\n     DATE: [**2644-1-19**] 12:09 PM\\n   ...</td>\n",
       "    </tr>\n",
       "    <tr>\n",
       "      <th>4</th>\n",
       "      <td>37</td>\n",
       "      <td>18052.0</td>\n",
       "      <td>\\n\\n\\n     DATE: [**3264-8-14**] 6:06 AM\\n    ...</td>\n",
       "    </tr>\n",
       "  </tbody>\n",
       "</table>\n",
       "</div>"
      ],
      "text/plain": [
       "   subject_id  hadm_id                                               text\n",
       "0          56  28766.0  \\n\\n\\n     DATE: [**2644-1-17**] 10:53 AM\\n   ...\n",
       "1          56  28766.0  \\n\\n\\n     DATE: [**2644-1-17**] 10:43 AM\\n   ...\n",
       "2          56  28766.0  \\n\\n\\n     DATE: [**2644-1-17**] 6:37 AM\\n    ...\n",
       "3          56  28766.0  \\n\\n\\n     DATE: [**2644-1-19**] 12:09 PM\\n   ...\n",
       "4          37  18052.0  \\n\\n\\n     DATE: [**3264-8-14**] 6:06 AM\\n    ..."
      ]
     },
     "execution_count": 290,
     "metadata": {},
     "output_type": "execute_result"
    }
   ],
   "source": [
    "rad_data = \\\n",
    "pd.read_sql(\"\"\"SELECT DISTINCT noteevents.subject_id, \n",
    "                      noteevents.hadm_id,\n",
    "                      noteevents.text \n",
    "               FROM noteevents\n",
    "               WHERE noteevents.category = 'RADIOLOGY_REPORT' \n",
    "               LIMIT 20000\"\"\",conn)\n",
    "rad_data.head(5)"
   ]
  },
  {
   "cell_type": "markdown",
   "metadata": {
    "nbgrader": {
     "grade": false,
     "grade_id": "cell-477e05c11f506767",
     "locked": true,
     "schema_version": 1,
     "solution": false
    }
   },
   "source": [
    "## Create a vocabulary\n",
    "\n",
    "We are first going to replace all digits in the reports with a \"d\" and convert all characters to lower case. This reduces our vocabulary size by approximately half. We will then use `TextBlob` and sets to get all the unique words in our document. This is our vocabulary. The vocabulary is represented as a dictionary which we create with the `zip` function."
   ]
  },
  {
   "cell_type": "code",
   "execution_count": 291,
   "metadata": {
    "collapsed": false,
    "nbgrader": {
     "grade": false,
     "grade_id": "cell-392861773b762e8f",
     "locked": true,
     "schema_version": 1,
     "solution": false
    }
   },
   "outputs": [
    {
     "name": "stdout",
     "output_type": "stream",
     "text": [
      "24727\n"
     ]
    }
   ],
   "source": [
    "reports = re.sub(\"\\d\", \"d\", \" \".join([r.lower() for r in rad_data[\"text\"]]))\n",
    "\n",
    "words = set(TextBlob(reports).words)\n",
    "\n",
    "vocabulary = dict(zip(words,range(len(words))))\n",
    "print(len(vocabulary))"
   ]
  },
  {
   "cell_type": "code",
   "execution_count": 292,
   "metadata": {
    "collapsed": false,
    "nbgrader": {
     "grade": false,
     "grade_id": "cell-1feaca11eb5fbf7b",
     "locked": true,
     "schema_version": 1,
     "solution": false
    }
   },
   "outputs": [
    {
     "data": {
      "text/plain": [
       "[('cardiac/respiratory', 0),\n",
       " ('holds', 1),\n",
       " ('pulm', 2),\n",
       " ('transfustion', 3),\n",
       " ('repositin', 4),\n",
       " ('ivc/ra', 5515),\n",
       " ('bronchogram', 4480),\n",
       " ('saturat', 12452),\n",
       " ('unerupted', 12453),\n",
       " ('motion-degraded', 4105)]"
      ]
     },
     "execution_count": 292,
     "metadata": {},
     "output_type": "execute_result"
    }
   ],
   "source": [
    "list(vocabulary.items())[:10]"
   ]
  },
  {
   "cell_type": "markdown",
   "metadata": {
    "nbgrader": {
     "grade": false,
     "grade_id": "cell-6df79c4b5cebeecb",
     "locked": true,
     "schema_version": 1,
     "solution": false
    }
   },
   "source": [
    "## Problem 3 (20 points):\n",
    "\n",
    "Write a function `doc2vec` that takes two arguments: 1) `txt` (a text to convert to a vector) and 2) `voc` (the vocabulary). It returns a `sparsev` instance that is the representation of `txt` in the `voc` vector space. Because `txt` may contain words that are not in the vocabulary, you will need to do exception handling."
   ]
  },
  {
   "cell_type": "code",
   "execution_count": 293,
   "metadata": {
    "collapsed": true,
    "nbgrader": {
     "grade": false,
     "grade_id": "cell-66383d25e8d92a2c",
     "locked": false,
     "schema_version": 1,
     "solution": true
    }
   },
   "outputs": [],
   "source": [
    "def doc2vec(txt, voc):\n",
    "    \n",
    "    blob = TextBlob(txt.lower())\n",
    "    v = sparsev(int, dim=len(voc))\n",
    "    for w in blob.words:\n",
    "        try:\n",
    "            v[voc[w]] += 1\n",
    "        except KeyError:\n",
    "            pass\n",
    "    return v\n"
   ]
  },
  {
   "cell_type": "code",
   "execution_count": 294,
   "metadata": {
    "collapsed": true,
    "nbgrader": {
     "grade": true,
     "grade_id": "cell-efcb973e15dfd825",
     "locked": true,
     "points": 5,
     "schema_version": 1,
     "solution": false
    }
   },
   "outputs": [],
   "source": [
    "v50 = doc2vec(re.sub(\"\\d\", \"d\", rad_data.loc[50,\"text\"]), vocabulary)\n",
    "v157 = doc2vec(re.sub(\"\\d\", \"d\", rad_data.loc[157,\"text\"]), vocabulary)\n",
    "assert_almost_equal(v50.norm(), 66.59579566308972)"
   ]
  },
  {
   "cell_type": "code",
   "execution_count": 295,
   "metadata": {
    "collapsed": true,
    "nbgrader": {
     "grade": true,
     "grade_id": "cell-850b4f40ab65b8c8",
     "locked": true,
     "points": 5,
     "schema_version": 1,
     "solution": false
    }
   },
   "outputs": [],
   "source": [
    "v50 = doc2vec(re.sub(\"\\d\", \"d\", rad_data.loc[50,\"text\"]), vocabulary)\n",
    "v157 = doc2vec(re.sub(\"\\d\", \"d\", rad_data.loc[157,\"text\"]), vocabulary)\n",
    "assert_almost_equal(v157.norm(), 95.40440241414439)"
   ]
  },
  {
   "cell_type": "markdown",
   "metadata": {},
   "source": [
    "### Cosine similarity of a document with itself should be 1"
   ]
  },
  {
   "cell_type": "code",
   "execution_count": 296,
   "metadata": {
    "collapsed": false,
    "nbgrader": {
     "grade": true,
     "grade_id": "cell-84674721cc216b29",
     "locked": true,
     "points": 5,
     "schema_version": 1,
     "solution": false
    }
   },
   "outputs": [
    {
     "name": "stderr",
     "output_type": "stream",
     "text": [
      "/opt/conda/lib/python3.5/site-packages/ipykernel_launcher.py:29: RuntimeWarning: invalid value encountered in arccos\n"
     ]
    }
   ],
   "source": [
    "v50 = doc2vec(re.sub(\"\\d\", \"d\", rad_data.loc[50,\"text\"]), vocabulary)\n",
    "v157 = doc2vec(re.sub(\"\\d\", \"d\", rad_data.loc[157,\"text\"]), vocabulary)\n",
    "assert_almost_equal(v50.cosine_sim(v50), 0)"
   ]
  },
  {
   "cell_type": "code",
   "execution_count": 258,
   "metadata": {
    "collapsed": true,
    "nbgrader": {
     "grade": true,
     "grade_id": "cell-aeace7ab957d6466",
     "locked": true,
     "points": 5,
     "schema_version": 1,
     "solution": false
    }
   },
   "outputs": [],
   "source": [
    "v50 = doc2vec(re.sub(\"\\d\", \"d\", rad_data.loc[50,\"text\"]), vocabulary)\n",
    "v157 = doc2vec(re.sub(\"\\d\", \"d\", rad_data.loc[157,\"text\"]), vocabulary)\n",
    "assert_almost_equal(v50.cosine_sim(v157), 0.7430023871608521)"
   ]
  },
  {
   "cell_type": "markdown",
   "metadata": {
    "nbgrader": {
     "grade": false,
     "grade_id": "cell-62ca66693fe165b1",
     "locked": true,
     "schema_version": 1,
     "solution": false
    }
   },
   "source": [
    "### Create a column in `rad_data` that has values equal to the similarity between the reports and `v50`."
   ]
  },
  {
   "cell_type": "code",
   "execution_count": 259,
   "metadata": {
    "collapsed": false,
    "nbgrader": {
     "grade": false,
     "grade_id": "cell-d86ca4e69940d4a2",
     "locked": true,
     "schema_version": 1,
     "solution": false
    }
   },
   "outputs": [
    {
     "name": "stderr",
     "output_type": "stream",
     "text": [
      "/opt/conda/lib/python3.5/site-packages/ipykernel_launcher.py:29: RuntimeWarning: invalid value encountered in double_scalars\n",
      "/opt/conda/lib/python3.5/site-packages/ipykernel_launcher.py:29: RuntimeWarning: invalid value encountered in arccos\n"
     ]
    }
   ],
   "source": [
    "rad_data[\"50sim\"] = rad_data.apply(lambda r: v50.cosine_sim(doc2vec(re.sub(\"\\d\", \"d\", r[\"text\"]), vocabulary)), axis=1)"
   ]
  },
  {
   "cell_type": "markdown",
   "metadata": {
    "nbgrader": {
     "grade": false,
     "grade_id": "cell-a2d8f98d625476e6",
     "locked": true,
     "schema_version": 1,
     "solution": false
    }
   },
   "source": [
    "## Problem 4 (10 points):\n",
    "\n",
    "Create a DataFrame `rad_data2` that only contains rows where rad_data[\"50sim\"] is greater than zero. Sort the `rad_data2` by ascending values of `50sim`."
   ]
  },
  {
   "cell_type": "code",
   "execution_count": 266,
   "metadata": {
    "collapsed": false,
    "nbgrader": {
     "grade": false,
     "grade_id": "cell-3cb580a57e6c5332",
     "locked": false,
     "schema_version": 1,
     "solution": true
    }
   },
   "outputs": [
    {
     "name": "stderr",
     "output_type": "stream",
     "text": [
      "/opt/conda/lib/python3.5/site-packages/ipykernel_launcher.py:3: UserWarning: Boolean Series key will be reindexed to match DataFrame index.\n",
      "  This is separate from the ipykernel package so we can avoid doing imports until\n"
     ]
    },
    {
     "data": {
      "text/html": [
       "<div>\n",
       "<table border=\"1\" class=\"dataframe\">\n",
       "  <thead>\n",
       "    <tr style=\"text-align: right;\">\n",
       "      <th></th>\n",
       "      <th>subject_id</th>\n",
       "      <th>hadm_id</th>\n",
       "      <th>text</th>\n",
       "      <th>50sim</th>\n",
       "    </tr>\n",
       "  </thead>\n",
       "  <tbody>\n",
       "    <tr>\n",
       "      <th>2850</th>\n",
       "      <td>1427</td>\n",
       "      <td>12755.0</td>\n",
       "      <td>\\n\\n\\n     DATE: [**3422-10-15**] 2:51 PM\\n   ...</td>\n",
       "      <td>1.427111</td>\n",
       "    </tr>\n",
       "    <tr>\n",
       "      <th>9382</th>\n",
       "      <td>5328</td>\n",
       "      <td>28535.0</td>\n",
       "      <td>\\n\\n\\n     DATE: [**2695-5-2**] 9:32 PM\\n     ...</td>\n",
       "      <td>1.427213</td>\n",
       "    </tr>\n",
       "    <tr>\n",
       "      <th>12884</th>\n",
       "      <td>7557</td>\n",
       "      <td>NaN</td>\n",
       "      <td>\\n\\n\\n     DATE: [**2866-6-7**] 8:13 AM\\n     ...</td>\n",
       "      <td>1.449436</td>\n",
       "    </tr>\n",
       "    <tr>\n",
       "      <th>3629</th>\n",
       "      <td>1884</td>\n",
       "      <td>17763.0</td>\n",
       "      <td>\\n\\n\\n     DATE: [**3256-11-8**] 7:37 AM\\n    ...</td>\n",
       "      <td>1.450346</td>\n",
       "    </tr>\n",
       "    <tr>\n",
       "      <th>17501</th>\n",
       "      <td>10315</td>\n",
       "      <td>22270.0</td>\n",
       "      <td>\\n\\n\\n     DATE: [**2558-2-12**] 1:09 AM\\n    ...</td>\n",
       "      <td>1.469616</td>\n",
       "    </tr>\n",
       "  </tbody>\n",
       "</table>\n",
       "</div>"
      ],
      "text/plain": [
       "       subject_id  hadm_id                                               text  \\\n",
       "2850         1427  12755.0  \\n\\n\\n     DATE: [**3422-10-15**] 2:51 PM\\n   ...   \n",
       "9382         5328  28535.0  \\n\\n\\n     DATE: [**2695-5-2**] 9:32 PM\\n     ...   \n",
       "12884        7557      NaN  \\n\\n\\n     DATE: [**2866-6-7**] 8:13 AM\\n     ...   \n",
       "3629         1884  17763.0  \\n\\n\\n     DATE: [**3256-11-8**] 7:37 AM\\n    ...   \n",
       "17501       10315  22270.0  \\n\\n\\n     DATE: [**2558-2-12**] 1:09 AM\\n    ...   \n",
       "\n",
       "          50sim  \n",
       "2850   1.427111  \n",
       "9382   1.427213  \n",
       "12884  1.449436  \n",
       "3629   1.450346  \n",
       "17501  1.469616  "
      ]
     },
     "execution_count": 266,
     "metadata": {},
     "output_type": "execute_result"
    }
   ],
   "source": [
    "rad_data2 = None\n",
    "\n",
    "rad_data2 = rad_data.sort_values(by=\"50sim\")[rad_data[\"50sim\"] > 0]\n",
    "\n",
    "rad_data2.tail()"
   ]
  },
  {
   "cell_type": "code",
   "execution_count": 263,
   "metadata": {
    "collapsed": true,
    "nbgrader": {
     "grade": true,
     "grade_id": "cell-378dc26662e3d7e4",
     "locked": true,
     "points": 5,
     "schema_version": 1,
     "solution": false
    }
   },
   "outputs": [],
   "source": [
    "assert_equal(rad_data2.iloc[0][\"subject_id\"], 463)"
   ]
  },
  {
   "cell_type": "code",
   "execution_count": 267,
   "metadata": {
    "collapsed": true,
    "nbgrader": {
     "grade": true,
     "grade_id": "cell-32390139d46fdcc3",
     "locked": true,
     "points": 5,
     "schema_version": 1,
     "solution": false
    }
   },
   "outputs": [],
   "source": [
    "assert_equal(rad_data2.iloc[-1][\"subject_id\"], 10315)"
   ]
  },
  {
   "cell_type": "markdown",
   "metadata": {
    "nbgrader": {
     "grade": false,
     "grade_id": "cell-79b77d792de72d9a",
     "locked": true,
     "schema_version": 1,
     "solution": false
    }
   },
   "source": [
    "## What do the most similar and most dissimilar (relative to 50) reports look like?"
   ]
  },
  {
   "cell_type": "code",
   "execution_count": 226,
   "metadata": {
    "collapsed": false,
    "nbgrader": {
     "grade": false,
     "grade_id": "cell-4b44dd9873e674cc",
     "locked": true,
     "schema_version": 1,
     "solution": false
    }
   },
   "outputs": [
    {
     "name": "stdout",
     "output_type": "stream",
     "text": [
      "\n",
      "\n",
      "\n",
      "     DATE: [**3353-1-26**] 5:37 PM\n",
      "     CT CHEST W/CONTRAST; CT 150CC NONIONIC CONTRAST                 Clip # [**Clip Number (Radiology) 1672**]\n",
      "     Reason: please eval new RLL inflitrate seen on CXR and r/o empyema  \n",
      "     Admitting Diagnosis: NON-HODGKINS LYMPHOMA;FEBRILE;NEUTROPENIA\n",
      "     Field of view: 34 Contrast: OPTIRAY Amt: 100\n",
      "     ______________________________________________________________________________\n",
      "     UNDERLYING MEDICAL CONDITION:\n",
      "        55 year old man with enteropathy associated t cell lymphoma and neutropenic.  \n",
      "       Tachycardic, tachypneic, resp. alkalosis on abg.\n",
      "     REASON FOR THIS EXAMINATION:\n",
      "      please eval new RLL inflitrate seen on CXR and r/o empyema                      \n",
      "     No contraindications for IV contrast\n",
      "     ______________________________________________________________________________\n",
      "                                     FINAL REPORT\n",
      "     INDICATION:  Enteropathy associated T-cell lymphoma and neutropenia,\n",
      "     tachycardic and tachypneic with respiratory alkalosis, please evaluate new\n",
      "     right lower lobe infiltrate on chest x-ray and rule out empyema.\n",
      "     \n",
      "     COMPARISON:  CT of the chest dated [**3353-1-15**], and PET CT dated\n",
      "     [**3353-1-17**].\n",
      "     \n",
      "     TECHNIQUE:  Axial MDCT images were obtained through the chest following the\n",
      "     administration of 100 cc of intravenous Optiray.  Additional thin section\n",
      "     reformatted images are provided.\n",
      "     \n",
      "     CONTRAST:  Intravenous nonionic contrast was administered due to the rapid\n",
      "     rate of bolus injection required for this examination.\n",
      "     \n",
      "     CT OF THE CHEST WITH INTRAVENOUS CONTRAST:  The aorta is normal in caliber,\n",
      "     with scattered mural calcifications consistent with atheromatous disease.\n",
      "     There are mild coronary artery calcifications.  Multiple small mediastinal,\n",
      "     hilar, and axillary lymph nodes are seen, not individually meeting criteria\n",
      "     for pathologic enlargement.  The largest of these, located in the right hilum,\n",
      "     measures 8 mm in short axis diameter.  The airways are patent to the level of\n",
      "     the segmental bronchi bilaterally.  There are multifocal areas of patchy\n",
      "     opacity throughout the lungs, most prominently located within the right middle\n",
      "     lobe and within the anterior segment of the left upper lobe.  In addition,\n",
      "     there are tiny bilateral pleural effusions and minimal adjacent atelectasis\n",
      "     within the lower lobes.  There is a suggestion of peripheral septal thickening\n",
      "     at the apices.  Two tiny, calcified nodular opacities are seen at the left\n",
      "     apex, consistent with prior granulomatous disease.\n",
      "     \n",
      "     Limited images of the upper abdomen, including limited images of the liver,\n",
      "     spleen, adrenal glands, and upper poles of the kidneys, demonstrate fullness\n",
      "     of the right adrenal gland without definite focal mass identified, a finding\n",
      "     that is consistent with the PET CT finding of abnormal uptake within the\n",
      "     adrenal glands.  No mass or fullness is identified within the left adrenal\n",
      "     gland.  There is a simple cyst arising from the upper pole of the left kidney\n",
      "     containing internal fluid density.  The visualized portions of the liver and\n",
      "     spleen appear unremarkable.  Heterogeneity within the spleen is likely related\n",
      "     to the phase of contrast administration.\n",
      "     \n",
      "     The appearance of the osseous structures is unchanged, with increased\n",
      "                                                                 (Over)\n",
      "\n",
      "     DATE: [**3353-1-26**] 5:37 PM\n",
      "     CT CHEST W/CONTRAST; CT 150CC NONIONIC CONTRAST                 Clip # [**Clip Number (Radiology) 1672**]\n",
      "     Reason: please eval new RLL inflitrate seen on CXR and r/o empyema  \n",
      "     Admitting Diagnosis: NON-HODGKINS LYMPHOMA;FEBRILE;NEUTROPENIA\n",
      "     Field of view: 34 Contrast: OPTIRAY Amt: 100\n",
      "     ______________________________________________________________________________\n",
      "                                     FINAL REPORT\n",
      "     (Cont)\n",
      "     trabeculation in the marrow spaces of the vertebrae and ribs.\n",
      "     \n",
      "     IMPRESSION:\n",
      "     \n",
      "     1)  Multifocal patchy opacities throughout the pulmonary parenchyma, a\n",
      "     nonspecific finding that is suggestive of multifocal infectious process.\n",
      "     \n",
      "     2)  Tiny bilateral pleural effusions and bibasilar atelectasis.\n",
      "     \n",
      "     3)  Diffuse enlargement of the right adrenal gland, a finding that is\n",
      "     consistent with the findings on recent PET CT of right adrenal lesion.  No\n",
      "     corresponding abnormality is identified within the left adrenal gland.\n",
      "     \n",
      "     4)  Stable appearance of the bones, with prominence of the trabeculations in\n",
      "     the marrow spaces of the vertebrae and ribs.\n",
      "     \n",
      "\n",
      "\n"
     ]
    }
   ],
   "source": [
    "print(rad_data.iloc[50][\"text\"])"
   ]
  },
  {
   "cell_type": "code",
   "execution_count": 264,
   "metadata": {
    "collapsed": false,
    "nbgrader": {
     "grade": false,
     "grade_id": "cell-7d9a9912594531e0",
     "locked": true,
     "schema_version": 1,
     "solution": false
    }
   },
   "outputs": [
    {
     "name": "stdout",
     "output_type": "stream",
     "text": [
      "\n",
      "\n",
      "\n",
      "     DATE: [**3334-11-8**] 2:43 PM\n",
      "     CT ABD W&W/O C; CT CHEST W/CONTRAST                             Clip # [**Clip Number (Radiology) 3604**]\n",
      "     CT PELVIS W/CONTRAST; CT 150CC NONIONIC CONTRAST\n",
      "     Reason: evaluate disease progression\n",
      "     Field of view: 32 Contrast: OPTIRAY Amt: 150\n",
      "     ______________________________________________________________________________\n",
      "     UNDERLYING MEDICAL CONDITION:\n",
      "      62 year old F with lung cancer. CT chest and abd prior to treatment\n",
      "     REASON FOR THIS EXAMINATION:\n",
      "      evaluate disease progression\n",
      "     ______________________________________________________________________________\n",
      "                                     FINAL REPORT\n",
      "     INDICATION:  Lung CA.\n",
      "     \n",
      "     TECHNIQUE:  Non-contrast images of the abdomen were obtained.  Contrast\n",
      "     enhanced images of the abdomen, as well as delayed images of the chest,\n",
      "     abdomen and pelvis following administration of 150 cc of Optiray were\n",
      "     performed.  Nonionic IV contrast was used at the patient's request.\n",
      "     \n",
      "     Comparison is made to the prior exam of [**3334-9-25**].\n",
      "     \n",
      "     CT OF THE CHEST WITH CONTRAST:  There has been interval decrease in the size\n",
      "     of the right-sided pleural effusion and pericardial effusion.  The previously\n",
      "     seen large hilar mass is unchanged, with similar appearance to postobstructive\n",
      "     collapse and upper lobe retraction.  Mediastinal adenopathy within the\n",
      "     subcarinal, prevascular and pretracheal areas is unchanged. The previously\n",
      "     seen irregular nodular pleural densities are again identified, unchanged.  No\n",
      "     new nodules are seen.  The heart, pericardium and great vessels are stable in\n",
      "     appearance.\n",
      "     \n",
      "     CT OF THE ABDOMEN WITHOUT AND WITH IV CONTRAST:  The liver and gallbladder are\n",
      "     normal.  The spleen is not enlarged.  The pancreas enhances homogeneously.  A\n",
      "     small cyst is again seen within the upper pole of the left kidney.  The right\n",
      "     adrenal and right kidney are  normal.  Since the prior scan, there has been\n",
      "     interval development of a left adrenal lesion that cannot be adequately\n",
      "     characterized on this examination not tailored towards evaluation of the\n",
      "     adrenal gland, and is concerning for a new metastatic focus. It demonstrates\n",
      "     an enhancing rim with central hypodensity and measures approximately 8 x 13\n",
      "     mm. The stomach, small bowel and colon are unremarkable. There is no free\n",
      "     fluid or free air. There is no mesenteric or retroperitoneal lymph node\n",
      "     enlargement.\n",
      "     \n",
      "     CT OF THE PELVIS WITH CONTRAST:  The distal ureters and bladder are\n",
      "     unremarkable. There is no pelvic lymph node enlargement.  There is no free\n",
      "     fluid. The rectum and sigmoid are unremarkable.  Since the prior scan, there\n",
      "     is now evidence of intraluminal thrombus within the left common femoral vein\n",
      "     that is nonocclusive.\n",
      "     \n",
      "     The osseous structures are unchanged.\n",
      "     \n",
      "     IMPRESSION:\n",
      "     \n",
      "     1. Interval development of a left adrenal lesion concerning for metastatic\n",
      "                                                                 (Over)\n",
      "\n",
      "     DATE: [**3334-11-8**] 2:43 PM\n",
      "     CT ABD W&W/O C; CT CHEST W/CONTRAST                             Clip # [**Clip Number (Radiology) 3604**]\n",
      "     CT PELVIS W/CONTRAST; CT 150CC NONIONIC CONTRAST\n",
      "     Reason: evaluate disease progression\n",
      "     Field of view: 32 Contrast: OPTIRAY Amt: 150\n",
      "     ______________________________________________________________________________\n",
      "                                     FINAL REPORT\n",
      "     (Cont)\n",
      "     focus. \n",
      "     \n",
      "     2. Newly identified nonocclusive intraluminal thrombus within the left common\n",
      "     femoral vein.\n",
      "     \n",
      "     3. Interval decrease in size of the right pleural effusion and pericardial\n",
      "     effusion.\n",
      "     \n",
      "     4. Unchanged appearance to mediastinal lymphadenopathy and right hilar mass\n",
      "     with associated postobstructive collapse.  Unchanged pleural nodules.\n",
      "     \n",
      "     The findings were communicated to the Hematology/Oncology Service at the time\n",
      "     of interpretation.\n",
      "     \n",
      "     \n",
      "\n",
      "\n"
     ]
    }
   ],
   "source": [
    "print(rad_data2.iloc[0][\"text\"])"
   ]
  },
  {
   "cell_type": "code",
   "execution_count": 265,
   "metadata": {
    "collapsed": false,
    "nbgrader": {
     "grade": false,
     "grade_id": "cell-1ff3173b144cf701",
     "locked": true,
     "schema_version": 1,
     "solution": false
    }
   },
   "outputs": [
    {
     "name": "stdout",
     "output_type": "stream",
     "text": [
      "\n",
      "\n",
      "\n",
      "     DATE: [**2558-2-12**] 1:09 AM\n",
      "     IVC GRAM/FILTER                                                 Clip # [**Clip Number (Radiology) 3326**]\n",
      "     Reason: POST SUCTION EMBO\n",
      "      Contrast: OPTIRAY Amt: 30\n",
      "     ********************************* CPT Codes ********************************\n",
      "     * 37620 INTERUP IVC                    36010 INTRO CATH SVC/IVC            *\n",
      "     * -51 MULTI-PROCEDURE SAME DAY         75940 PERC PLCMT IVC FILTER         *\n",
      "     * 75825 IVC GRAM                       C1880 VENA CAVA FILTER              *\n",
      "     ****************************************************************************\n",
      "     ______________________________________________________________________________\n",
      "                                     FINAL REPORT\n",
      "     please see clip [**Clip Number (Radiology) 3321**].\n",
      "\n",
      "             DR. [**First Name4 (NamePattern1) **] [**Last Name (NamePattern1) **]\n",
      "             DR. [**First Name11 (Name Pattern1) **] [**Initial (NamePattern1) **]. [**Last Name (NamePattern1) **]\n",
      "\n"
     ]
    }
   ],
   "source": [
    "\n",
    "print(rad_data2.iloc[-1][\"text\"])"
   ]
  },
  {
   "cell_type": "code",
   "execution_count": null,
   "metadata": {
    "collapsed": true
   },
   "outputs": [],
   "source": []
  }
 ],
 "metadata": {
  "anaconda-cloud": {},
  "celltoolbar": "Create Assignment",
  "kernelspec": {
   "display_name": "Python [default]",
   "language": "python",
   "name": "python3"
  },
  "language_info": {
   "codemirror_mode": {
    "name": "ipython",
    "version": 3
   },
   "file_extension": ".py",
   "mimetype": "text/x-python",
   "name": "python",
   "nbconvert_exporter": "python",
   "pygments_lexer": "ipython3",
   "version": "3.5.2"
  }
 },
 "nbformat": 4,
 "nbformat_minor": 1
}
